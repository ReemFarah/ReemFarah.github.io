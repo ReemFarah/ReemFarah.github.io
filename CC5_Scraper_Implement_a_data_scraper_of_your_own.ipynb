{
  "nbformat": 4,
  "nbformat_minor": 0,
  "metadata": {
    "colab": {
      "provenance": [],
      "authorship_tag": "ABX9TyPjimlnqM6D8mTpvZRPAXJ9",
      "include_colab_link": true
    },
    "kernelspec": {
      "name": "python3",
      "display_name": "Python 3"
    },
    "language_info": {
      "name": "python"
    }
  },
  "cells": [
    {
      "cell_type": "markdown",
      "metadata": {
        "id": "view-in-github",
        "colab_type": "text"
      },
      "source": [
        "<a href=\"https://colab.research.google.com/github/ReemFarah/ReemFarah.github.io/blob/main/CC5_Scraper_Implement_a_data_scraper_of_your_own.ipynb\" target=\"_parent\"><img src=\"https://colab.research.google.com/assets/colab-badge.svg\" alt=\"Open In Colab\"/></a>"
      ]
    },
    {
      "cell_type": "code",
      "source": [
        "import requests\n",
        "from bs4 import BeautifulSoup\n",
        "import pandas as pd\n",
        "\n",
        "# URL of the website\n",
        "url = \"http://books.toscrape.com/\"\n",
        "\n",
        "# Send a GET request to fetch the raw HTML content\n",
        "response = requests.get(url)\n",
        "soup = BeautifulSoup(response.content, 'html.parser')\n",
        "\n",
        "# Extract book details\n",
        "books = soup.find_all('article', class_='product_pod')\n",
        "\n",
        "# Parse data into a list of dictionaries\n",
        "data = []\n",
        "for book in books:\n",
        "    title = book.h3.a['title']  # Book title\n",
        "    price = book.find('p', class_='price_color').text.strip('£')  # Price\n",
        "    availability = book.find('p', class_='instock availability').text.strip()  # Availability\n",
        "    data.append({'Title': title, 'Price (£)': float(price), 'Availability': availability})\n",
        "\n",
        "# Convert to DataFrame\n",
        "books_df = pd.DataFrame(data)\n",
        "\n",
        "# Preview the DataFrame\n",
        "print(books_df.head())\n"
      ],
      "metadata": {
        "colab": {
          "base_uri": "https://localhost:8080/"
        },
        "id": "qRFxDBC7rrdB",
        "outputId": "0cd9db40-d1b4-4aa3-c84f-ff23f3503b25"
      },
      "execution_count": 3,
      "outputs": [
        {
          "output_type": "stream",
          "name": "stdout",
          "text": [
            "                                   Title  Price (£) Availability\n",
            "0                   A Light in the Attic      51.77     In stock\n",
            "1                     Tipping the Velvet      53.74     In stock\n",
            "2                             Soumission      50.10     In stock\n",
            "3                          Sharp Objects      47.82     In stock\n",
            "4  Sapiens: A Brief History of Humankind      54.23     In stock\n"
          ]
        }
      ]
    },
    {
      "cell_type": "code",
      "source": [
        "# Convert DataFrame to TIDY format\n",
        "tidy_books = books_df.melt(id_vars=['Title'], var_name='Metric', value_name='Value')\n",
        "\n",
        "# Preview the normalized data\n",
        "print(tidy_books.head())\n"
      ],
      "metadata": {
        "colab": {
          "base_uri": "https://localhost:8080/"
        },
        "id": "iO6akwrgrs0K",
        "outputId": "78f373cd-1fae-45a7-a5dc-4c52a13a000e"
      },
      "execution_count": 4,
      "outputs": [
        {
          "output_type": "stream",
          "name": "stdout",
          "text": [
            "                                   Title     Metric  Value\n",
            "0                   A Light in the Attic  Price (£)  51.77\n",
            "1                     Tipping the Velvet  Price (£)  53.74\n",
            "2                             Soumission  Price (£)   50.1\n",
            "3                          Sharp Objects  Price (£)  47.82\n",
            "4  Sapiens: A Brief History of Humankind  Price (£)  54.23\n"
          ]
        }
      ]
    },
    {
      "cell_type": "code",
      "source": [
        "# Export to CSV\n",
        "tidy_books.to_csv(\"tidy_books_data.csv\", index=False)\n"
      ],
      "metadata": {
        "id": "i-n8OKsIrvML"
      },
      "execution_count": 5,
      "outputs": []
    },
    {
      "cell_type": "code",
      "source": [
        "import altair as alt\n",
        "\n",
        "# Create a bar chart for book prices\n",
        "chart = alt.Chart(books_df).mark_bar(color='skyblue').encode(\n",
        "    x=alt.X('Title:N', title='Book Title', sort='-y'),\n",
        "    y=alt.Y('Price (£):Q', title='Price (£)'),\n",
        "    tooltip=['Title', 'Price (£)', 'Availability']\n",
        ").properties(\n",
        "    title='Book Prices from Books to Scrape',\n",
        "    width=800,\n",
        "    height=400\n",
        ")\n",
        "\n",
        "# Display the chart\n",
        "chart.show()\n"
      ],
      "metadata": {
        "colab": {
          "base_uri": "https://localhost:8080/",
          "height": 654
        },
        "id": "ilWV4E_mryLy",
        "outputId": "be03ac6f-5d60-480b-ea3d-c2b7eba335c2"
      },
      "execution_count": 6,
      "outputs": [
        {
          "output_type": "display_data",
          "data": {
            "text/html": [
              "\n",
              "<style>\n",
              "  #altair-viz-5ebb1f53bcd74d8a996ec5ce285631c2.vega-embed {\n",
              "    width: 100%;\n",
              "    display: flex;\n",
              "  }\n",
              "\n",
              "  #altair-viz-5ebb1f53bcd74d8a996ec5ce285631c2.vega-embed details,\n",
              "  #altair-viz-5ebb1f53bcd74d8a996ec5ce285631c2.vega-embed details summary {\n",
              "    position: relative;\n",
              "  }\n",
              "</style>\n",
              "<div id=\"altair-viz-5ebb1f53bcd74d8a996ec5ce285631c2\"></div>\n",
              "<script type=\"text/javascript\">\n",
              "  var VEGA_DEBUG = (typeof VEGA_DEBUG == \"undefined\") ? {} : VEGA_DEBUG;\n",
              "  (function(spec, embedOpt){\n",
              "    let outputDiv = document.currentScript.previousElementSibling;\n",
              "    if (outputDiv.id !== \"altair-viz-5ebb1f53bcd74d8a996ec5ce285631c2\") {\n",
              "      outputDiv = document.getElementById(\"altair-viz-5ebb1f53bcd74d8a996ec5ce285631c2\");\n",
              "    }\n",
              "\n",
              "    const paths = {\n",
              "      \"vega\": \"https://cdn.jsdelivr.net/npm/vega@5?noext\",\n",
              "      \"vega-lib\": \"https://cdn.jsdelivr.net/npm/vega-lib?noext\",\n",
              "      \"vega-lite\": \"https://cdn.jsdelivr.net/npm/vega-lite@5.20.1?noext\",\n",
              "      \"vega-embed\": \"https://cdn.jsdelivr.net/npm/vega-embed@6?noext\",\n",
              "    };\n",
              "\n",
              "    function maybeLoadScript(lib, version) {\n",
              "      var key = `${lib.replace(\"-\", \"\")}_version`;\n",
              "      return (VEGA_DEBUG[key] == version) ?\n",
              "        Promise.resolve(paths[lib]) :\n",
              "        new Promise(function(resolve, reject) {\n",
              "          var s = document.createElement('script');\n",
              "          document.getElementsByTagName(\"head\")[0].appendChild(s);\n",
              "          s.async = true;\n",
              "          s.onload = () => {\n",
              "            VEGA_DEBUG[key] = version;\n",
              "            return resolve(paths[lib]);\n",
              "          };\n",
              "          s.onerror = () => reject(`Error loading script: ${paths[lib]}`);\n",
              "          s.src = paths[lib];\n",
              "        });\n",
              "    }\n",
              "\n",
              "    function showError(err) {\n",
              "      outputDiv.innerHTML = `<div class=\"error\" style=\"color:red;\">${err}</div>`;\n",
              "      throw err;\n",
              "    }\n",
              "\n",
              "    function displayChart(vegaEmbed) {\n",
              "      vegaEmbed(outputDiv, spec, embedOpt)\n",
              "        .catch(err => showError(`Javascript Error: ${err.message}<br>This usually means there's a typo in your chart specification. See the javascript console for the full traceback.`));\n",
              "    }\n",
              "\n",
              "    if(typeof define === \"function\" && define.amd) {\n",
              "      requirejs.config({paths});\n",
              "      let deps = [\"vega-embed\"];\n",
              "      require(deps, displayChart, err => showError(`Error loading script: ${err.message}`));\n",
              "    } else {\n",
              "      maybeLoadScript(\"vega\", \"5\")\n",
              "        .then(() => maybeLoadScript(\"vega-lite\", \"5.20.1\"))\n",
              "        .then(() => maybeLoadScript(\"vega-embed\", \"6\"))\n",
              "        .catch(showError)\n",
              "        .then(() => displayChart(vegaEmbed));\n",
              "    }\n",
              "  })({\"config\": {\"view\": {\"continuousWidth\": 300, \"continuousHeight\": 300}}, \"data\": {\"name\": \"data-755ddde54fb655e9b1e58befd5bfacb5\"}, \"mark\": {\"type\": \"bar\", \"color\": \"skyblue\"}, \"encoding\": {\"tooltip\": [{\"field\": \"Title\", \"type\": \"nominal\"}, {\"field\": \"Price (\\u00a3)\", \"type\": \"quantitative\"}, {\"field\": \"Availability\", \"type\": \"nominal\"}], \"x\": {\"field\": \"Title\", \"sort\": \"-y\", \"title\": \"Book Title\", \"type\": \"nominal\"}, \"y\": {\"field\": \"Price (\\u00a3)\", \"title\": \"Price (\\u00a3)\", \"type\": \"quantitative\"}}, \"height\": 400, \"title\": \"Book Prices from Books to Scrape\", \"width\": 800, \"$schema\": \"https://vega.github.io/schema/vega-lite/v5.20.1.json\", \"datasets\": {\"data-755ddde54fb655e9b1e58befd5bfacb5\": [{\"Title\": \"A Light in the Attic\", \"Price (\\u00a3)\": 51.77, \"Availability\": \"In stock\"}, {\"Title\": \"Tipping the Velvet\", \"Price (\\u00a3)\": 53.74, \"Availability\": \"In stock\"}, {\"Title\": \"Soumission\", \"Price (\\u00a3)\": 50.1, \"Availability\": \"In stock\"}, {\"Title\": \"Sharp Objects\", \"Price (\\u00a3)\": 47.82, \"Availability\": \"In stock\"}, {\"Title\": \"Sapiens: A Brief History of Humankind\", \"Price (\\u00a3)\": 54.23, \"Availability\": \"In stock\"}, {\"Title\": \"The Requiem Red\", \"Price (\\u00a3)\": 22.65, \"Availability\": \"In stock\"}, {\"Title\": \"The Dirty Little Secrets of Getting Your Dream Job\", \"Price (\\u00a3)\": 33.34, \"Availability\": \"In stock\"}, {\"Title\": \"The Coming Woman: A Novel Based on the Life of the Infamous Feminist, Victoria Woodhull\", \"Price (\\u00a3)\": 17.93, \"Availability\": \"In stock\"}, {\"Title\": \"The Boys in the Boat: Nine Americans and Their Epic Quest for Gold at the 1936 Berlin Olympics\", \"Price (\\u00a3)\": 22.6, \"Availability\": \"In stock\"}, {\"Title\": \"The Black Maria\", \"Price (\\u00a3)\": 52.15, \"Availability\": \"In stock\"}, {\"Title\": \"Starving Hearts (Triangular Trade Trilogy, #1)\", \"Price (\\u00a3)\": 13.99, \"Availability\": \"In stock\"}, {\"Title\": \"Shakespeare's Sonnets\", \"Price (\\u00a3)\": 20.66, \"Availability\": \"In stock\"}, {\"Title\": \"Set Me Free\", \"Price (\\u00a3)\": 17.46, \"Availability\": \"In stock\"}, {\"Title\": \"Scott Pilgrim's Precious Little Life (Scott Pilgrim #1)\", \"Price (\\u00a3)\": 52.29, \"Availability\": \"In stock\"}, {\"Title\": \"Rip it Up and Start Again\", \"Price (\\u00a3)\": 35.02, \"Availability\": \"In stock\"}, {\"Title\": \"Our Band Could Be Your Life: Scenes from the American Indie Underground, 1981-1991\", \"Price (\\u00a3)\": 57.25, \"Availability\": \"In stock\"}, {\"Title\": \"Olio\", \"Price (\\u00a3)\": 23.88, \"Availability\": \"In stock\"}, {\"Title\": \"Mesaerion: The Best Science Fiction Stories 1800-1849\", \"Price (\\u00a3)\": 37.59, \"Availability\": \"In stock\"}, {\"Title\": \"Libertarianism for Beginners\", \"Price (\\u00a3)\": 51.33, \"Availability\": \"In stock\"}, {\"Title\": \"It's Only the Himalayas\", \"Price (\\u00a3)\": 45.17, \"Availability\": \"In stock\"}]}}, {\"mode\": \"vega-lite\"});\n",
              "</script>"
            ],
            "text/plain": [
              "alt.Chart(...)"
            ]
          },
          "metadata": {}
        }
      ]
    },
    {
      "cell_type": "markdown",
      "source": [
        "I chose \"Books to Scrape\" because it’s a beginner-friendly website designed for web scraping, with well-structured and accessible data for easy analysis and visualisation."
      ],
      "metadata": {
        "id": "QqGNjomZr71x"
      }
    },
    {
      "cell_type": "code",
      "source": [
        "import pandas as pd\n",
        "\n",
        "# Scrape data from Wikipedia\n",
        "url = \"https://en.wikipedia.org/wiki/List_of_countries_and_dependencies_by_population\"\n",
        "tables = pd.read_html(url)\n",
        "\n",
        "# Select the relevant table (assume the first table is the one needed)\n",
        "population_table = tables[0]\n",
        "\n",
        "# Preview the scraped data\n",
        "print(population_table.head())\n"
      ],
      "metadata": {
        "colab": {
          "base_uri": "https://localhost:8080/"
        },
        "id": "BVIh-C2ksCtl",
        "outputId": "3b8eb7ee-1d24-4fb7-ac1e-0d2e96f22b3a"
      },
      "execution_count": 7,
      "outputs": [
        {
          "output_type": "stream",
          "name": "stdout",
          "text": [
            "  Unnamed: 0       Location  Population % of world         Date  \\\n",
            "0          –          World  8119000000       100%   1 Jul 2024   \n",
            "1    1/2 [b]          China  1409670000      17.3%  31 Dec 2023   \n",
            "2    1/2 [b]          India  1402737000      17.2%   1 Jul 2024   \n",
            "3          3  United States   340110988       4.2%   1 Jul 2024   \n",
            "4          4      Indonesia   282477584       3.5%  30 Jun 2024   \n",
            "\n",
            "  Source (official or from the United Nations) Notes  \n",
            "0                          UN projection[1][3]   NaN  \n",
            "1                         Official estimate[5]   [c]  \n",
            "2                       Official projection[6]   [d]  \n",
            "3                         Official estimate[7]   [e]  \n",
            "4                National annual projection[8]   NaN  \n"
          ]
        }
      ]
    },
    {
      "cell_type": "code",
      "source": [
        "# Check the number of columns and preview the data\n",
        "print(population_table.columns)\n",
        "print(population_table.head())\n",
        "\n",
        "\n"
      ],
      "metadata": {
        "colab": {
          "base_uri": "https://localhost:8080/"
        },
        "id": "Dg01Y34LsJcC",
        "outputId": "ae5872e0-4789-4975-c130-d3278ed6cb34"
      },
      "execution_count": 11,
      "outputs": [
        {
          "output_type": "stream",
          "name": "stdout",
          "text": [
            "Index(['Unnamed: 0', 'Location', 'Population', '% of world', 'Date',\n",
            "       'Source (official or from the United Nations)', 'Notes'],\n",
            "      dtype='object')\n",
            "  Unnamed: 0       Location  Population % of world         Date  \\\n",
            "0          –          World  8119000000       100%   1 Jul 2024   \n",
            "1    1/2 [b]          China  1409670000      17.3%  31 Dec 2023   \n",
            "2    1/2 [b]          India  1402737000      17.2%   1 Jul 2024   \n",
            "3          3  United States   340110988       4.2%   1 Jul 2024   \n",
            "4          4      Indonesia   282477584       3.5%  30 Jun 2024   \n",
            "\n",
            "  Source (official or from the United Nations) Notes  \n",
            "0                          UN projection[1][3]   NaN  \n",
            "1                         Official estimate[5]   [c]  \n",
            "2                       Official projection[6]   [d]  \n",
            "3                         Official estimate[7]   [e]  \n",
            "4                National annual projection[8]   NaN  \n"
          ]
        }
      ]
    },
    {
      "cell_type": "code",
      "source": [
        "import pandas as pd\n",
        "\n",
        "# Scrape the table from Wikipedia\n",
        "url = \"https://en.wikipedia.org/wiki/List_of_countries_and_dependencies_by_population\"\n",
        "tables = pd.read_html(url)\n",
        "\n",
        "# Select the first table and check its structure\n",
        "population_table = tables[0]\n",
        "\n",
        "# Rename columns based on your output\n",
        "population_table.columns = [\n",
        "    \"Rank\",\n",
        "    \"Location\",\n",
        "    \"Population\",\n",
        "    \"Percentage_of_World\",\n",
        "    \"Date\",\n",
        "    \"Source\",\n",
        "    \"Notes\",\n",
        "]\n",
        "\n",
        "# Drop unnecessary columns\n",
        "population_table = population_table[[\"Location\", \"Population\", \"Percentage_of_World\", \"Date\"]]\n",
        "\n",
        "# Clean and normalize the Population column (remove commas and convert to numeric)\n",
        "population_table[\"Population\"] = (\n",
        "    population_table[\"Population\"]\n",
        "    .astype(str)\n",
        "    .str.replace(\",\", \"\")\n",
        "    .str.extract(r\"(\\d+)\")\n",
        "    .astype(float)\n",
        ")\n",
        "\n",
        "# Clean the Percentage_of_World column (remove % and convert to float)\n",
        "population_table[\"Percentage_of_World\"] = (\n",
        "    population_table[\"Percentage_of_World\"]\n",
        "    .str.replace(\"%\", \"\")\n",
        "    .astype(float)\n",
        ")\n",
        "\n",
        "# Preview the cleaned data\n",
        "print(population_table.head())\n"
      ],
      "metadata": {
        "colab": {
          "base_uri": "https://localhost:8080/"
        },
        "id": "gFZcLiYgs_i_",
        "outputId": "bd33ab13-4fba-44ee-8058-e40d600017f7"
      },
      "execution_count": 12,
      "outputs": [
        {
          "output_type": "stream",
          "name": "stdout",
          "text": [
            "        Location    Population  Percentage_of_World         Date\n",
            "0          World  8.119000e+09                100.0   1 Jul 2024\n",
            "1          China  1.409670e+09                 17.3  31 Dec 2023\n",
            "2          India  1.402737e+09                 17.2   1 Jul 2024\n",
            "3  United States  3.401110e+08                  4.2   1 Jul 2024\n",
            "4      Indonesia  2.824776e+08                  3.5  30 Jun 2024\n"
          ]
        },
        {
          "output_type": "stream",
          "name": "stderr",
          "text": [
            "<ipython-input-12-42312f8baea8>:25: SettingWithCopyWarning: \n",
            "A value is trying to be set on a copy of a slice from a DataFrame.\n",
            "Try using .loc[row_indexer,col_indexer] = value instead\n",
            "\n",
            "See the caveats in the documentation: https://pandas.pydata.org/pandas-docs/stable/user_guide/indexing.html#returning-a-view-versus-a-copy\n",
            "  population_table[\"Population\"] = (\n",
            "<ipython-input-12-42312f8baea8>:34: SettingWithCopyWarning: \n",
            "A value is trying to be set on a copy of a slice from a DataFrame.\n",
            "Try using .loc[row_indexer,col_indexer] = value instead\n",
            "\n",
            "See the caveats in the documentation: https://pandas.pydata.org/pandas-docs/stable/user_guide/indexing.html#returning-a-view-versus-a-copy\n",
            "  population_table[\"Percentage_of_World\"] = (\n"
          ]
        }
      ]
    },
    {
      "cell_type": "code",
      "source": [
        "# Convert the table to TIDY format (long form)\n",
        "tidy_population = population_table.melt(\n",
        "    id_vars=[\"Location\", \"Date\"],\n",
        "    var_name=\"Metric\",\n",
        "    value_name=\"Value\"\n",
        ")\n",
        "\n",
        "# Preview the TIDY data\n",
        "print(tidy_population.head())\n",
        "\n"
      ],
      "metadata": {
        "colab": {
          "base_uri": "https://localhost:8080/"
        },
        "id": "oCM7P9U1sXS-",
        "outputId": "56731cbd-15b1-4162-d6df-2470da34fe4e"
      },
      "execution_count": 13,
      "outputs": [
        {
          "output_type": "stream",
          "name": "stdout",
          "text": [
            "        Location         Date      Metric         Value\n",
            "0          World   1 Jul 2024  Population  8.119000e+09\n",
            "1          China  31 Dec 2023  Population  1.409670e+09\n",
            "2          India   1 Jul 2024  Population  1.402737e+09\n",
            "3  United States   1 Jul 2024  Population  3.401110e+08\n",
            "4      Indonesia  30 Jun 2024  Population  2.824776e+08\n"
          ]
        }
      ]
    },
    {
      "cell_type": "code",
      "source": [
        "# Save the TIDY data to a CSV file\n",
        "tidy_population.to_csv(\"tidy_population_data.csv\", index=False)\n"
      ],
      "metadata": {
        "id": "TRx3f1f7tEw1"
      },
      "execution_count": 14,
      "outputs": []
    },
    {
      "cell_type": "code",
      "source": [
        "import altair as alt\n",
        "\n",
        "# Select the top 10 most populous countries\n",
        "top_10 = population_table.nlargest(10, \"Population\")\n",
        "\n",
        "# Create a bar chart\n",
        "chart = alt.Chart(top_10).mark_bar(color='dodgerblue').encode(\n",
        "    x=alt.X(\"Location:N\", title=\"Country/Territory\", sort='-y', axis=alt.Axis(labelAngle=0)),  # Set labelAngle to 0\n",
        "    y=alt.Y(\"Population:Q\", title=\"Population\"),\n",
        "    tooltip=[\"Location\", \"Population\", \"Percentage_of_World\"]\n",
        ").properties(\n",
        "    title=\"Top 10 Most Populous Countries in Comparison with the World's Population\",\n",
        "    width=800,\n",
        "    height=400\n",
        ")\n",
        "\n",
        "# Display the chart\n",
        "chart.show()\n"
      ],
      "metadata": {
        "colab": {
          "base_uri": "https://localhost:8080/",
          "height": 485
        },
        "id": "0OptWyTCtjCL",
        "outputId": "f740ae6c-0ac2-4b5a-9df3-659fa6087869"
      },
      "execution_count": 20,
      "outputs": [
        {
          "output_type": "display_data",
          "data": {
            "text/html": [
              "\n",
              "<style>\n",
              "  #altair-viz-4b9db8a0a4ff44adb59dbe64fe091c2e.vega-embed {\n",
              "    width: 100%;\n",
              "    display: flex;\n",
              "  }\n",
              "\n",
              "  #altair-viz-4b9db8a0a4ff44adb59dbe64fe091c2e.vega-embed details,\n",
              "  #altair-viz-4b9db8a0a4ff44adb59dbe64fe091c2e.vega-embed details summary {\n",
              "    position: relative;\n",
              "  }\n",
              "</style>\n",
              "<div id=\"altair-viz-4b9db8a0a4ff44adb59dbe64fe091c2e\"></div>\n",
              "<script type=\"text/javascript\">\n",
              "  var VEGA_DEBUG = (typeof VEGA_DEBUG == \"undefined\") ? {} : VEGA_DEBUG;\n",
              "  (function(spec, embedOpt){\n",
              "    let outputDiv = document.currentScript.previousElementSibling;\n",
              "    if (outputDiv.id !== \"altair-viz-4b9db8a0a4ff44adb59dbe64fe091c2e\") {\n",
              "      outputDiv = document.getElementById(\"altair-viz-4b9db8a0a4ff44adb59dbe64fe091c2e\");\n",
              "    }\n",
              "\n",
              "    const paths = {\n",
              "      \"vega\": \"https://cdn.jsdelivr.net/npm/vega@5?noext\",\n",
              "      \"vega-lib\": \"https://cdn.jsdelivr.net/npm/vega-lib?noext\",\n",
              "      \"vega-lite\": \"https://cdn.jsdelivr.net/npm/vega-lite@5.20.1?noext\",\n",
              "      \"vega-embed\": \"https://cdn.jsdelivr.net/npm/vega-embed@6?noext\",\n",
              "    };\n",
              "\n",
              "    function maybeLoadScript(lib, version) {\n",
              "      var key = `${lib.replace(\"-\", \"\")}_version`;\n",
              "      return (VEGA_DEBUG[key] == version) ?\n",
              "        Promise.resolve(paths[lib]) :\n",
              "        new Promise(function(resolve, reject) {\n",
              "          var s = document.createElement('script');\n",
              "          document.getElementsByTagName(\"head\")[0].appendChild(s);\n",
              "          s.async = true;\n",
              "          s.onload = () => {\n",
              "            VEGA_DEBUG[key] = version;\n",
              "            return resolve(paths[lib]);\n",
              "          };\n",
              "          s.onerror = () => reject(`Error loading script: ${paths[lib]}`);\n",
              "          s.src = paths[lib];\n",
              "        });\n",
              "    }\n",
              "\n",
              "    function showError(err) {\n",
              "      outputDiv.innerHTML = `<div class=\"error\" style=\"color:red;\">${err}</div>`;\n",
              "      throw err;\n",
              "    }\n",
              "\n",
              "    function displayChart(vegaEmbed) {\n",
              "      vegaEmbed(outputDiv, spec, embedOpt)\n",
              "        .catch(err => showError(`Javascript Error: ${err.message}<br>This usually means there's a typo in your chart specification. See the javascript console for the full traceback.`));\n",
              "    }\n",
              "\n",
              "    if(typeof define === \"function\" && define.amd) {\n",
              "      requirejs.config({paths});\n",
              "      let deps = [\"vega-embed\"];\n",
              "      require(deps, displayChart, err => showError(`Error loading script: ${err.message}`));\n",
              "    } else {\n",
              "      maybeLoadScript(\"vega\", \"5\")\n",
              "        .then(() => maybeLoadScript(\"vega-lite\", \"5.20.1\"))\n",
              "        .then(() => maybeLoadScript(\"vega-embed\", \"6\"))\n",
              "        .catch(showError)\n",
              "        .then(() => displayChart(vegaEmbed));\n",
              "    }\n",
              "  })({\"config\": {\"view\": {\"continuousWidth\": 300, \"continuousHeight\": 300}}, \"data\": {\"name\": \"data-d6f6fd56bc04d4913870a17dbcc79a76\"}, \"mark\": {\"type\": \"bar\", \"color\": \"dodgerblue\"}, \"encoding\": {\"tooltip\": [{\"field\": \"Location\", \"type\": \"nominal\"}, {\"field\": \"Population\", \"type\": \"quantitative\"}, {\"field\": \"Percentage_of_World\", \"type\": \"quantitative\"}], \"x\": {\"axis\": {\"labelAngle\": 0}, \"field\": \"Location\", \"sort\": \"-y\", \"title\": \"Country/Territory\", \"type\": \"nominal\"}, \"y\": {\"field\": \"Population\", \"title\": \"Population\", \"type\": \"quantitative\"}}, \"height\": 400, \"title\": \"Top 10 Most Populous Countries in Comparison with the World's Population\", \"width\": 800, \"$schema\": \"https://vega.github.io/schema/vega-lite/v5.20.1.json\", \"datasets\": {\"data-d6f6fd56bc04d4913870a17dbcc79a76\": [{\"Location\": \"World\", \"Population\": 8119000000.0, \"Percentage_of_World\": 100.0, \"Date\": \"1 Jul 2024\"}, {\"Location\": \"China\", \"Population\": 1409670000.0, \"Percentage_of_World\": 17.3, \"Date\": \"31 Dec 2023\"}, {\"Location\": \"India\", \"Population\": 1402737000.0, \"Percentage_of_World\": 17.2, \"Date\": \"1 Jul 2024\"}, {\"Location\": \"United States\", \"Population\": 340110988.0, \"Percentage_of_World\": 4.2, \"Date\": \"1 Jul 2024\"}, {\"Location\": \"Indonesia\", \"Population\": 282477584.0, \"Percentage_of_World\": 3.5, \"Date\": \"30 Jun 2024\"}, {\"Location\": \"Pakistan\", \"Population\": 241499431.0, \"Percentage_of_World\": 3.0, \"Date\": \"1 Mar 2023\"}, {\"Location\": \"Nigeria\", \"Population\": 223800000.0, \"Percentage_of_World\": 2.7, \"Date\": \"1 Jul 2023\"}, {\"Location\": \"Brazil\", \"Population\": 212583750.0, \"Percentage_of_World\": 2.6, \"Date\": \"1 Jul 2024\"}, {\"Location\": \"Bangladesh\", \"Population\": 169828911.0, \"Percentage_of_World\": 2.1, \"Date\": \"14 Jun 2022\"}, {\"Location\": \"Russia\", \"Population\": 146150789.0, \"Percentage_of_World\": 1.8, \"Date\": \"1 Jan 2024\"}]}}, {\"mode\": \"vega-lite\"});\n",
              "</script>"
            ],
            "text/plain": [
              "alt.Chart(...)"
            ]
          },
          "metadata": {}
        }
      ]
    },
    {
      "cell_type": "code",
      "source": [
        "import altair as alt\n",
        "\n",
        "# Filter out the \"World\" entry\n",
        "filtered_data = population_table[population_table[\"Location\"] != \"World\"]\n",
        "\n",
        "# Select the top 10 most populous countries (excluding \"World\")\n",
        "top_10_filtered = filtered_data.nlargest(10, \"Population\")\n",
        "\n",
        "# Create a bar chart\n",
        "chart = alt.Chart(top_10_filtered).mark_bar(color='dodgerblue').encode(\n",
        "    x=alt.X(\"Location:N\", title=\"Country/Territory\", sort='-y', axis=alt.Axis(labelAngle=0)),  # Horizontal labels\n",
        "    y=alt.Y(\"Population:Q\", title=\"Population\"),\n",
        "    tooltip=[\"Location\", \"Population\", \"Percentage_of_World\"]\n",
        ").properties(\n",
        "    title=\"Top 10 Most Populous Countries\",\n",
        "    width=800,\n",
        "    height=400\n",
        ")\n",
        "\n",
        "# Display the chart\n",
        "chart.show()\n"
      ],
      "metadata": {
        "colab": {
          "base_uri": "https://localhost:8080/",
          "height": 485
        },
        "id": "2hM_wo37t9Qa",
        "outputId": "09e65cc0-ba68-442e-d257-275d5b5effd9"
      },
      "execution_count": 19,
      "outputs": [
        {
          "output_type": "display_data",
          "data": {
            "text/html": [
              "\n",
              "<style>\n",
              "  #altair-viz-5a9940591d3944ffa51e9bd3c84c8040.vega-embed {\n",
              "    width: 100%;\n",
              "    display: flex;\n",
              "  }\n",
              "\n",
              "  #altair-viz-5a9940591d3944ffa51e9bd3c84c8040.vega-embed details,\n",
              "  #altair-viz-5a9940591d3944ffa51e9bd3c84c8040.vega-embed details summary {\n",
              "    position: relative;\n",
              "  }\n",
              "</style>\n",
              "<div id=\"altair-viz-5a9940591d3944ffa51e9bd3c84c8040\"></div>\n",
              "<script type=\"text/javascript\">\n",
              "  var VEGA_DEBUG = (typeof VEGA_DEBUG == \"undefined\") ? {} : VEGA_DEBUG;\n",
              "  (function(spec, embedOpt){\n",
              "    let outputDiv = document.currentScript.previousElementSibling;\n",
              "    if (outputDiv.id !== \"altair-viz-5a9940591d3944ffa51e9bd3c84c8040\") {\n",
              "      outputDiv = document.getElementById(\"altair-viz-5a9940591d3944ffa51e9bd3c84c8040\");\n",
              "    }\n",
              "\n",
              "    const paths = {\n",
              "      \"vega\": \"https://cdn.jsdelivr.net/npm/vega@5?noext\",\n",
              "      \"vega-lib\": \"https://cdn.jsdelivr.net/npm/vega-lib?noext\",\n",
              "      \"vega-lite\": \"https://cdn.jsdelivr.net/npm/vega-lite@5.20.1?noext\",\n",
              "      \"vega-embed\": \"https://cdn.jsdelivr.net/npm/vega-embed@6?noext\",\n",
              "    };\n",
              "\n",
              "    function maybeLoadScript(lib, version) {\n",
              "      var key = `${lib.replace(\"-\", \"\")}_version`;\n",
              "      return (VEGA_DEBUG[key] == version) ?\n",
              "        Promise.resolve(paths[lib]) :\n",
              "        new Promise(function(resolve, reject) {\n",
              "          var s = document.createElement('script');\n",
              "          document.getElementsByTagName(\"head\")[0].appendChild(s);\n",
              "          s.async = true;\n",
              "          s.onload = () => {\n",
              "            VEGA_DEBUG[key] = version;\n",
              "            return resolve(paths[lib]);\n",
              "          };\n",
              "          s.onerror = () => reject(`Error loading script: ${paths[lib]}`);\n",
              "          s.src = paths[lib];\n",
              "        });\n",
              "    }\n",
              "\n",
              "    function showError(err) {\n",
              "      outputDiv.innerHTML = `<div class=\"error\" style=\"color:red;\">${err}</div>`;\n",
              "      throw err;\n",
              "    }\n",
              "\n",
              "    function displayChart(vegaEmbed) {\n",
              "      vegaEmbed(outputDiv, spec, embedOpt)\n",
              "        .catch(err => showError(`Javascript Error: ${err.message}<br>This usually means there's a typo in your chart specification. See the javascript console for the full traceback.`));\n",
              "    }\n",
              "\n",
              "    if(typeof define === \"function\" && define.amd) {\n",
              "      requirejs.config({paths});\n",
              "      let deps = [\"vega-embed\"];\n",
              "      require(deps, displayChart, err => showError(`Error loading script: ${err.message}`));\n",
              "    } else {\n",
              "      maybeLoadScript(\"vega\", \"5\")\n",
              "        .then(() => maybeLoadScript(\"vega-lite\", \"5.20.1\"))\n",
              "        .then(() => maybeLoadScript(\"vega-embed\", \"6\"))\n",
              "        .catch(showError)\n",
              "        .then(() => displayChart(vegaEmbed));\n",
              "    }\n",
              "  })({\"config\": {\"view\": {\"continuousWidth\": 300, \"continuousHeight\": 300}}, \"data\": {\"name\": \"data-a690d4b6c1769d5f81c673c57dec94e3\"}, \"mark\": {\"type\": \"bar\", \"color\": \"dodgerblue\"}, \"encoding\": {\"tooltip\": [{\"field\": \"Location\", \"type\": \"nominal\"}, {\"field\": \"Population\", \"type\": \"quantitative\"}, {\"field\": \"Percentage_of_World\", \"type\": \"quantitative\"}], \"x\": {\"axis\": {\"labelAngle\": 0}, \"field\": \"Location\", \"sort\": \"-y\", \"title\": \"Country/Territory\", \"type\": \"nominal\"}, \"y\": {\"field\": \"Population\", \"title\": \"Population\", \"type\": \"quantitative\"}}, \"height\": 400, \"title\": \"Top 10 Most Populous Countries\", \"width\": 800, \"$schema\": \"https://vega.github.io/schema/vega-lite/v5.20.1.json\", \"datasets\": {\"data-a690d4b6c1769d5f81c673c57dec94e3\": [{\"Location\": \"China\", \"Population\": 1409670000.0, \"Percentage_of_World\": 17.3, \"Date\": \"31 Dec 2023\"}, {\"Location\": \"India\", \"Population\": 1402737000.0, \"Percentage_of_World\": 17.2, \"Date\": \"1 Jul 2024\"}, {\"Location\": \"United States\", \"Population\": 340110988.0, \"Percentage_of_World\": 4.2, \"Date\": \"1 Jul 2024\"}, {\"Location\": \"Indonesia\", \"Population\": 282477584.0, \"Percentage_of_World\": 3.5, \"Date\": \"30 Jun 2024\"}, {\"Location\": \"Pakistan\", \"Population\": 241499431.0, \"Percentage_of_World\": 3.0, \"Date\": \"1 Mar 2023\"}, {\"Location\": \"Nigeria\", \"Population\": 223800000.0, \"Percentage_of_World\": 2.7, \"Date\": \"1 Jul 2023\"}, {\"Location\": \"Brazil\", \"Population\": 212583750.0, \"Percentage_of_World\": 2.6, \"Date\": \"1 Jul 2024\"}, {\"Location\": \"Bangladesh\", \"Population\": 169828911.0, \"Percentage_of_World\": 2.1, \"Date\": \"14 Jun 2022\"}, {\"Location\": \"Russia\", \"Population\": 146150789.0, \"Percentage_of_World\": 1.8, \"Date\": \"1 Jan 2024\"}, {\"Location\": \"Mexico\", \"Population\": 130154247.0, \"Percentage_of_World\": 1.6, \"Date\": \"30 Sep 2024\"}]}}, {\"mode\": \"vega-lite\"});\n",
              "</script>"
            ],
            "text/plain": [
              "alt.Chart(...)"
            ]
          },
          "metadata": {}
        }
      ]
    },
    {
      "cell_type": "markdown",
      "source": [
        "These charts highlight the population distribution of countries globally, providing insights into demographic patterns with the top ten populous nations clearly visualised."
      ],
      "metadata": {
        "id": "bzbQ_hB_u1Em"
      }
    }
  ]
}