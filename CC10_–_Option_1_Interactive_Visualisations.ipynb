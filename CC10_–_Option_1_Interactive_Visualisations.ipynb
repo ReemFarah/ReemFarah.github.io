{
  "nbformat": 4,
  "nbformat_minor": 0,
  "metadata": {
    "colab": {
      "provenance": [],
      "authorship_tag": "ABX9TyNb5c1Yw4T0wHKT7zp+B4+b",
      "include_colab_link": true
    },
    "kernelspec": {
      "name": "python3",
      "display_name": "Python 3"
    },
    "language_info": {
      "name": "python"
    }
  },
  "cells": [
    {
      "cell_type": "markdown",
      "metadata": {
        "id": "view-in-github",
        "colab_type": "text"
      },
      "source": [
        "<a href=\"https://colab.research.google.com/github/ReemFarah/ReemFarah.github.io/blob/main/CC10_%E2%80%93_Option_1_Interactive_Visualisations.ipynb\" target=\"_parent\"><img src=\"https://colab.research.google.com/assets/colab-badge.svg\" alt=\"Open In Colab\"/></a>"
      ]
    },
    {
      "cell_type": "code",
      "execution_count": 1,
      "metadata": {
        "id": "2I70hjf8mj97"
      },
      "outputs": [],
      "source": [
        "import altair as alt\n",
        "import pandas as pd"
      ]
    },
    {
      "cell_type": "code",
      "source": [
        "import requests\n",
        "\n",
        "# List of indicators with World Bank API URLs\n",
        "indicators = [\n",
        "    {\"name\": \"Mobile Data\", \"url\": \"http://api.worldbank.org/v2/country/KEN/indicator/IT.CEL.SETS?format=json\"},\n",
        "    {\"name\": \"Internet Users\", \"url\": \"http://api.worldbank.org/v2/country/KEN/indicator/IT.NET.USER.ZS?format=json\"},\n",
        "    {\"name\": \"Mobile Money Accounts\", \"url\": \"http://api.worldbank.org/v2/country/KEN/indicator/FX.OWN.TOTL.ZS?format=json\"}\n",
        "]\n",
        "\n",
        "# Fetch and clean data for each indicator\n",
        "for indicator in indicators:\n",
        "    response = requests.get(indicator[\"url\"])\n",
        "    if response.status_code == 200:\n",
        "        data = response.json()\n",
        "        if len(data) > 1 and data[1] is not None:\n",
        "            records = data[1]\n",
        "            df = pd.DataFrame(records)\n",
        "            df = df[[\"date\", \"value\"]].dropna()  # Select relevant columns and drop missing values\n",
        "            df[\"date\"] = pd.to_numeric(df[\"date\"], errors=\"coerce\")\n",
        "            df[\"value\"] = pd.to_numeric(df[\"value\"], errors=\"coerce\")\n",
        "            df = df.dropna()  # Ensure clean data\n",
        "            filename = f\"{indicator['name'].lower().replace(' ', '_')}_kenya.csv\"\n",
        "            df.to_csv(filename, index=False)\n",
        "            print(f\"Saved {indicator['name']} data to {filename}.\")\n",
        "        else:\n",
        "            print(f\"No data available for {indicator['name']}.\")\n",
        "    else:\n",
        "        print(f\"Error fetching data for {indicator['name']}.\")"
      ],
      "metadata": {
        "colab": {
          "base_uri": "https://localhost:8080/"
        },
        "id": "CX1uennrmsry",
        "outputId": "a3a3c64f-7b8b-4f5e-8723-69d6a54bfa49"
      },
      "execution_count": 2,
      "outputs": [
        {
          "output_type": "stream",
          "name": "stdout",
          "text": [
            "Saved Mobile Data data to mobile_data_kenya.csv.\n",
            "Saved Internet Users data to internet_users_kenya.csv.\n",
            "Saved Mobile Money Accounts data to mobile_money_accounts_kenya.csv.\n"
          ]
        }
      ]
    },
    {
      "cell_type": "code",
      "source": [],
      "metadata": {
        "id": "i9Xfw50bzLZP"
      },
      "execution_count": null,
      "outputs": []
    },
    {
      "cell_type": "code",
      "source": [
        "import os\n",
        "for file in os.listdir():\n",
        "    if file.endswith(\".csv\"):\n",
        "        print(file)"
      ],
      "metadata": {
        "colab": {
          "base_uri": "https://localhost:8080/"
        },
        "id": "x5LlbnXDmzcC",
        "outputId": "01781c6a-a6e9-4a45-b808-57cee79584ce"
      },
      "execution_count": 3,
      "outputs": [
        {
          "output_type": "stream",
          "name": "stdout",
          "text": [
            "mobile_money_accounts_kenya.csv\n",
            "internet_users_kenya.csv\n",
            "mobile_data_kenya.csv\n"
          ]
        }
      ]
    },
    {
      "cell_type": "code",
      "source": [
        "!pip install altair\n",
        "import altair as alt\n",
        "import pandas as pd"
      ],
      "metadata": {
        "colab": {
          "base_uri": "https://localhost:8080/"
        },
        "id": "MUwubKKNob6Q",
        "outputId": "f1b9728c-d3b8-4168-fa3b-0d4c14fe43c5"
      },
      "execution_count": 9,
      "outputs": [
        {
          "output_type": "stream",
          "name": "stdout",
          "text": [
            "Requirement already satisfied: altair in /usr/local/lib/python3.10/dist-packages (5.5.0)\n",
            "Requirement already satisfied: jinja2 in /usr/local/lib/python3.10/dist-packages (from altair) (3.1.4)\n",
            "Requirement already satisfied: jsonschema>=3.0 in /usr/local/lib/python3.10/dist-packages (from altair) (4.23.0)\n",
            "Requirement already satisfied: narwhals>=1.14.2 in /usr/local/lib/python3.10/dist-packages (from altair) (1.18.4)\n",
            "Requirement already satisfied: packaging in /usr/local/lib/python3.10/dist-packages (from altair) (24.2)\n",
            "Requirement already satisfied: typing-extensions>=4.10.0 in /usr/local/lib/python3.10/dist-packages (from altair) (4.12.2)\n",
            "Requirement already satisfied: attrs>=22.2.0 in /usr/local/lib/python3.10/dist-packages (from jsonschema>=3.0->altair) (24.3.0)\n",
            "Requirement already satisfied: jsonschema-specifications>=2023.03.6 in /usr/local/lib/python3.10/dist-packages (from jsonschema>=3.0->altair) (2024.10.1)\n",
            "Requirement already satisfied: referencing>=0.28.4 in /usr/local/lib/python3.10/dist-packages (from jsonschema>=3.0->altair) (0.35.1)\n",
            "Requirement already satisfied: rpds-py>=0.7.1 in /usr/local/lib/python3.10/dist-packages (from jsonschema>=3.0->altair) (0.22.3)\n",
            "Requirement already satisfied: MarkupSafe>=2.0 in /usr/local/lib/python3.10/dist-packages (from jinja2->altair) (3.0.2)\n"
          ]
        }
      ]
    },
    {
      "cell_type": "code",
      "source": [
        "# Load datasets\n",
        "mobile_data = pd.read_csv(\"mobile_data_kenya.csv\")\n",
        "internet_users = pd.read_csv(\"internet_users_kenya.csv\")\n",
        "mobile_money_accounts = pd.read_csv(\"mobile_money_accounts_kenya.csv\")\n",
        "\n",
        "# Add a new column to each dataset to distinguish them\n",
        "mobile_data['Indicator'] = 'Mobile Data'\n",
        "internet_users['Indicator'] = 'Internet Users'\n",
        "mobile_money_accounts['Indicator'] = 'Mobile Money Accounts'\n",
        "\n",
        "# Combine datasets into one DataFrame\n",
        "combined_data = pd.concat([mobile_data, internet_users, mobile_money_accounts])\n",
        "\n",
        "# Create an Altair chart\n",
        "chart = alt.Chart(combined_data).mark_line(point=True).encode(\n",
        "    x=alt.X('date:T', title='Year'),\n",
        "    y=alt.Y('value:Q', title='Value'),\n",
        "    color='Indicator:N',\n",
        "    tooltip=['date:T', 'value:Q', 'Indicator:N']\n",
        ").properties(\n",
        "    title='Interactive Indicator Trends'\n",
        ").interactive()  # Enable zoom and pan\n",
        "\n",
        "# Save the chart as a JSON file\n",
        "chart.save('chart.json')\n",
        "\n",
        "# Optional: Show the chart\n",
        "chart.display()\n"
      ],
      "metadata": {
        "colab": {
          "base_uri": "https://localhost:8080/",
          "height": 385
        },
        "id": "Q37BapL5o1oq",
        "outputId": "68606cf4-8d40-4a19-d35b-16c274ed3855"
      },
      "execution_count": 11,
      "outputs": [
        {
          "output_type": "display_data",
          "data": {
            "text/html": [
              "\n",
              "<style>\n",
              "  #altair-viz-05220a96916149beaf45d852b9b3cc37.vega-embed {\n",
              "    width: 100%;\n",
              "    display: flex;\n",
              "  }\n",
              "\n",
              "  #altair-viz-05220a96916149beaf45d852b9b3cc37.vega-embed details,\n",
              "  #altair-viz-05220a96916149beaf45d852b9b3cc37.vega-embed details summary {\n",
              "    position: relative;\n",
              "  }\n",
              "</style>\n",
              "<div id=\"altair-viz-05220a96916149beaf45d852b9b3cc37\"></div>\n",
              "<script type=\"text/javascript\">\n",
              "  var VEGA_DEBUG = (typeof VEGA_DEBUG == \"undefined\") ? {} : VEGA_DEBUG;\n",
              "  (function(spec, embedOpt){\n",
              "    let outputDiv = document.currentScript.previousElementSibling;\n",
              "    if (outputDiv.id !== \"altair-viz-05220a96916149beaf45d852b9b3cc37\") {\n",
              "      outputDiv = document.getElementById(\"altair-viz-05220a96916149beaf45d852b9b3cc37\");\n",
              "    }\n",
              "\n",
              "    const paths = {\n",
              "      \"vega\": \"https://cdn.jsdelivr.net/npm/vega@5?noext\",\n",
              "      \"vega-lib\": \"https://cdn.jsdelivr.net/npm/vega-lib?noext\",\n",
              "      \"vega-lite\": \"https://cdn.jsdelivr.net/npm/vega-lite@5.20.1?noext\",\n",
              "      \"vega-embed\": \"https://cdn.jsdelivr.net/npm/vega-embed@6?noext\",\n",
              "    };\n",
              "\n",
              "    function maybeLoadScript(lib, version) {\n",
              "      var key = `${lib.replace(\"-\", \"\")}_version`;\n",
              "      return (VEGA_DEBUG[key] == version) ?\n",
              "        Promise.resolve(paths[lib]) :\n",
              "        new Promise(function(resolve, reject) {\n",
              "          var s = document.createElement('script');\n",
              "          document.getElementsByTagName(\"head\")[0].appendChild(s);\n",
              "          s.async = true;\n",
              "          s.onload = () => {\n",
              "            VEGA_DEBUG[key] = version;\n",
              "            return resolve(paths[lib]);\n",
              "          };\n",
              "          s.onerror = () => reject(`Error loading script: ${paths[lib]}`);\n",
              "          s.src = paths[lib];\n",
              "        });\n",
              "    }\n",
              "\n",
              "    function showError(err) {\n",
              "      outputDiv.innerHTML = `<div class=\"error\" style=\"color:red;\">${err}</div>`;\n",
              "      throw err;\n",
              "    }\n",
              "\n",
              "    function displayChart(vegaEmbed) {\n",
              "      vegaEmbed(outputDiv, spec, embedOpt)\n",
              "        .catch(err => showError(`Javascript Error: ${err.message}<br>This usually means there's a typo in your chart specification. See the javascript console for the full traceback.`));\n",
              "    }\n",
              "\n",
              "    if(typeof define === \"function\" && define.amd) {\n",
              "      requirejs.config({paths});\n",
              "      let deps = [\"vega-embed\"];\n",
              "      require(deps, displayChart, err => showError(`Error loading script: ${err.message}`));\n",
              "    } else {\n",
              "      maybeLoadScript(\"vega\", \"5\")\n",
              "        .then(() => maybeLoadScript(\"vega-lite\", \"5.20.1\"))\n",
              "        .then(() => maybeLoadScript(\"vega-embed\", \"6\"))\n",
              "        .catch(showError)\n",
              "        .then(() => displayChart(vegaEmbed));\n",
              "    }\n",
              "  })({\"config\": {\"view\": {\"continuousWidth\": 300, \"continuousHeight\": 300}}, \"data\": {\"name\": \"data-1cbd2978073107a87028e02d3352a628\"}, \"mark\": {\"type\": \"line\", \"point\": true}, \"encoding\": {\"color\": {\"field\": \"Indicator\", \"type\": \"nominal\"}, \"tooltip\": [{\"field\": \"date\", \"type\": \"temporal\"}, {\"field\": \"value\", \"type\": \"quantitative\"}, {\"field\": \"Indicator\", \"type\": \"nominal\"}], \"x\": {\"field\": \"date\", \"title\": \"Year\", \"type\": \"temporal\"}, \"y\": {\"field\": \"value\", \"title\": \"Value\", \"type\": \"quantitative\"}}, \"params\": [{\"name\": \"param_1\", \"select\": {\"type\": \"interval\", \"encodings\": [\"x\", \"y\"]}, \"bind\": \"scales\"}], \"title\": \"Interactive Indicator Trends\", \"$schema\": \"https://vega.github.io/schema/vega-lite/v5.20.1.json\", \"datasets\": {\"data-1cbd2978073107a87028e02d3352a628\": [{\"date\": 2023, \"value\": 66700000.0, \"Indicator\": \"Mobile Data\"}, {\"date\": 2022, \"value\": 65700000.0, \"Indicator\": \"Mobile Data\"}, {\"date\": 2021, \"value\": 65100000.0, \"Indicator\": \"Mobile Data\"}, {\"date\": 2020, \"value\": 61400000.0, \"Indicator\": \"Mobile Data\"}, {\"date\": 2019, \"value\": 54600000.0, \"Indicator\": \"Mobile Data\"}, {\"date\": 2018, \"value\": 49500000.0, \"Indicator\": \"Mobile Data\"}, {\"date\": 2017, \"value\": 42800000.0, \"Indicator\": \"Mobile Data\"}, {\"date\": 2016, \"value\": 39000000.0, \"Indicator\": \"Mobile Data\"}, {\"date\": 2015, \"value\": 37700000.0, \"Indicator\": \"Mobile Data\"}, {\"date\": 2014, \"value\": 33600000.0, \"Indicator\": \"Mobile Data\"}, {\"date\": 2013, \"value\": 31800000.0, \"Indicator\": \"Mobile Data\"}, {\"date\": 2012, \"value\": 30700000.0, \"Indicator\": \"Mobile Data\"}, {\"date\": 2011, \"value\": 28100000.0, \"Indicator\": \"Mobile Data\"}, {\"date\": 2010, \"value\": 25000000.0, \"Indicator\": \"Mobile Data\"}, {\"date\": 2009, \"value\": 19400000.0, \"Indicator\": \"Mobile Data\"}, {\"date\": 2008, \"value\": 16300000.0, \"Indicator\": \"Mobile Data\"}, {\"date\": 2007, \"value\": 11300000.0, \"Indicator\": \"Mobile Data\"}, {\"date\": 2006, \"value\": 7340000.0, \"Indicator\": \"Mobile Data\"}, {\"date\": 2005, \"value\": 4610000.0, \"Indicator\": \"Mobile Data\"}, {\"date\": 2004, \"value\": 2550000.0, \"Indicator\": \"Mobile Data\"}, {\"date\": 2003, \"value\": 1590000.0, \"Indicator\": \"Mobile Data\"}, {\"date\": 2002, \"value\": 1190000.0, \"Indicator\": \"Mobile Data\"}, {\"date\": 2001, \"value\": 600000.0, \"Indicator\": \"Mobile Data\"}, {\"date\": 2000, \"value\": 127404.0, \"Indicator\": \"Mobile Data\"}, {\"date\": 1999, \"value\": 23757.0, \"Indicator\": \"Mobile Data\"}, {\"date\": 1998, \"value\": 10756.0, \"Indicator\": \"Mobile Data\"}, {\"date\": 1997, \"value\": 6767.0, \"Indicator\": \"Mobile Data\"}, {\"date\": 1996, \"value\": 2826.0, \"Indicator\": \"Mobile Data\"}, {\"date\": 1995, \"value\": 2279.0, \"Indicator\": \"Mobile Data\"}, {\"date\": 1994, \"value\": 1990.0, \"Indicator\": \"Mobile Data\"}, {\"date\": 1993, \"value\": 1162.0, \"Indicator\": \"Mobile Data\"}, {\"date\": 1992, \"value\": 1100.0, \"Indicator\": \"Mobile Data\"}, {\"date\": 1991, \"value\": 0.0, \"Indicator\": \"Mobile Data\"}, {\"date\": 1990, \"value\": 0.0, \"Indicator\": \"Mobile Data\"}, {\"date\": 1989, \"value\": 0.0, \"Indicator\": \"Mobile Data\"}, {\"date\": 1988, \"value\": 0.0, \"Indicator\": \"Mobile Data\"}, {\"date\": 1987, \"value\": 0.0, \"Indicator\": \"Mobile Data\"}, {\"date\": 1986, \"value\": 0.0, \"Indicator\": \"Mobile Data\"}, {\"date\": 1985, \"value\": 0.0, \"Indicator\": \"Mobile Data\"}, {\"date\": 1984, \"value\": 0.0, \"Indicator\": \"Mobile Data\"}, {\"date\": 1983, \"value\": 0.0, \"Indicator\": \"Mobile Data\"}, {\"date\": 1982, \"value\": 0.0, \"Indicator\": \"Mobile Data\"}, {\"date\": 1981, \"value\": 0.0, \"Indicator\": \"Mobile Data\"}, {\"date\": 1980, \"value\": 0.0, \"Indicator\": \"Mobile Data\"}, {\"date\": 1979, \"value\": 0.0, \"Indicator\": \"Mobile Data\"}, {\"date\": 1978, \"value\": 0.0, \"Indicator\": \"Mobile Data\"}, {\"date\": 1977, \"value\": 0.0, \"Indicator\": \"Mobile Data\"}, {\"date\": 1976, \"value\": 0.0, \"Indicator\": \"Mobile Data\"}, {\"date\": 1975, \"value\": 0.0, \"Indicator\": \"Mobile Data\"}, {\"date\": 2022, \"value\": 40.8137, \"Indicator\": \"Internet Users\"}, {\"date\": 2021, \"value\": 38.2459, \"Indicator\": \"Internet Users\"}, {\"date\": 2020, \"value\": 27.5774, \"Indicator\": \"Internet Users\"}, {\"date\": 2019, \"value\": 22.6688, \"Indicator\": \"Internet Users\"}, {\"date\": 2018, \"value\": 19.5, \"Indicator\": \"Internet Users\"}, {\"date\": 2017, \"value\": 17.8271, \"Indicator\": \"Internet Users\"}, {\"date\": 2016, \"value\": 16.6, \"Indicator\": \"Internet Users\"}, {\"date\": 2015, \"value\": 16.5879, \"Indicator\": \"Internet Users\"}, {\"date\": 2014, \"value\": 16.5, \"Indicator\": \"Internet Users\"}, {\"date\": 2013, \"value\": 13.0, \"Indicator\": \"Internet Users\"}, {\"date\": 2012, \"value\": 10.5, \"Indicator\": \"Internet Users\"}, {\"date\": 2011, \"value\": 8.8, \"Indicator\": \"Internet Users\"}, {\"date\": 2010, \"value\": 7.2, \"Indicator\": \"Internet Users\"}, {\"date\": 2009, \"value\": 6.1, \"Indicator\": \"Internet Users\"}, {\"date\": 2008, \"value\": 5.2, \"Indicator\": \"Internet Users\"}, {\"date\": 2007, \"value\": 4.4, \"Indicator\": \"Internet Users\"}, {\"date\": 2006, \"value\": 3.6, \"Indicator\": \"Internet Users\"}, {\"date\": 2005, \"value\": 3.1019, \"Indicator\": \"Internet Users\"}, {\"date\": 2004, \"value\": 3.02353, \"Indicator\": \"Internet Users\"}, {\"date\": 2003, \"value\": 2.9419, \"Indicator\": \"Internet Users\"}, {\"date\": 2002, \"value\": 1.20777, \"Indicator\": \"Internet Users\"}, {\"date\": 2001, \"value\": 0.619782, \"Indicator\": \"Internet Users\"}, {\"date\": 2000, \"value\": 0.31806, \"Indicator\": \"Internet Users\"}, {\"date\": 1999, \"value\": 0.114256028, \"Indicator\": \"Internet Users\"}, {\"date\": 1998, \"value\": 0.050261388, \"Indicator\": \"Internet Users\"}, {\"date\": 1997, \"value\": 0.034406051, \"Indicator\": \"Internet Users\"}, {\"date\": 1996, \"value\": 0.008839115, \"Indicator\": \"Internet Users\"}, {\"date\": 1995, \"value\": 0.000727482, \"Indicator\": \"Internet Users\"}, {\"date\": 1994, \"value\": 0.0, \"Indicator\": \"Internet Users\"}, {\"date\": 1993, \"value\": 0.0, \"Indicator\": \"Internet Users\"}, {\"date\": 1992, \"value\": 0.0, \"Indicator\": \"Internet Users\"}, {\"date\": 1991, \"value\": 0.0, \"Indicator\": \"Internet Users\"}, {\"date\": 1990, \"value\": 0.0, \"Indicator\": \"Internet Users\"}, {\"date\": 2021, \"value\": 79.2, \"Indicator\": \"Mobile Money Accounts\"}, {\"date\": 2017, \"value\": 81.57, \"Indicator\": \"Mobile Money Accounts\"}, {\"date\": 2014, \"value\": 74.66, \"Indicator\": \"Mobile Money Accounts\"}, {\"date\": 2011, \"value\": 42.34, \"Indicator\": \"Mobile Money Accounts\"}]}}, {\"mode\": \"vega-lite\"});\n",
              "</script>"
            ],
            "text/plain": [
              "alt.Chart(...)"
            ]
          },
          "metadata": {}
        }
      ]
    },
    {
      "cell_type": "markdown",
      "source": [
        "Insight: The chart highlights how technological advancements, such as growth in Mobile Data and Internet Users, have driven financial inclusion in Kenya through Mobile Money adoption. Why It Matters: It shows the synergy between digital connectivity and financial services, bridging access gaps and empowering underserved populations."
      ],
      "metadata": {
        "id": "ixZv-ASApmPs"
      }
    },
    {
      "cell_type": "code",
      "source": [
        "# Ensure all years are covered\n",
        "all_years = pd.DataFrame({\"date\": range(2010, 2022)})\n",
        "\n",
        "# Merge datasets\n",
        "internet_users = pd.merge(all_years, internet_users, on=\"date\", how=\"left\")\n",
        "mobile_money_accounts = pd.merge(all_years, mobile_money_accounts, on=\"date\", how=\"left\")\n",
        "\n",
        "# Fill missing values with 0 or interpolate for better visualization\n",
        "internet_users[\"value\"] = internet_users[\"value\"].fillna(0)\n",
        "mobile_money_accounts[\"value\"] = mobile_money_accounts[\"value\"].fillna(0)\n",
        "\n",
        "# Merge into a single dataset\n",
        "merged_data = pd.merge(internet_users, mobile_money_accounts, on=\"date\", suffixes=(\"_internet\", \"_mobile_money\"))"
      ],
      "metadata": {
        "id": "KhBPfmmQpnXa"
      },
      "execution_count": 12,
      "outputs": []
    },
    {
      "cell_type": "code",
      "source": [
        "# Clip values to ensure no negative or out-of-range values\n",
        "merged_data[\"value_internet\"] = merged_data[\"value_internet\"].clip(lower=0)\n",
        "merged_data[\"value_mobile_money\"] = merged_data[\"value_mobile_money\"].clip(lower=0)"
      ],
      "metadata": {
        "id": "DXxcdMwYpt4b"
      },
      "execution_count": 13,
      "outputs": []
    },
    {
      "cell_type": "code",
      "source": [
        "import pandas as pd\n",
        "import numpy as np\n",
        "\n",
        "# Load datasets\n",
        "internet_users = pd.read_csv(\"internet_users_kenya.csv\")\n",
        "mobile_money_accounts = pd.read_csv(\"mobile_money_accounts_kenya.csv\")\n",
        "\n",
        "# Merge datasets\n",
        "merged_data = pd.merge(internet_users, mobile_money_accounts, on=\"date\", suffixes=(\"_internet\", \"_mobile_money\"))\n",
        "\n",
        "# Create a pivot table for heat map\n",
        "heatmap_data = merged_data.pivot(index=\"value_mobile_money\", columns=\"date\", values=\"value_internet\")\n",
        "\n",
        "# Fill missing values with zeros or interpolation (if needed)\n",
        "heatmap_data = heatmap_data.fillna(0)"
      ],
      "metadata": {
        "id": "2-d5xAODpyga"
      },
      "execution_count": 14,
      "outputs": []
    },
    {
      "cell_type": "code",
      "source": [
        "import pandas as pd\n",
        "\n",
        "# Load datasets\n",
        "internet_users = pd.read_csv(\"internet_users_kenya.csv\")\n",
        "mobile_money_accounts = pd.read_csv(\"mobile_money_accounts_kenya.csv\")\n",
        "\n",
        "# Merge datasets on 'date'\n",
        "merged_data = pd.merge(internet_users, mobile_money_accounts, on=\"date\", suffixes=(\"_internet\", \"_mobile_money\"))\n",
        "\n",
        "# Display merged data to verify\n",
        "print(merged_data.head())"
      ],
      "metadata": {
        "colab": {
          "base_uri": "https://localhost:8080/"
        },
        "id": "pwv__YDWp0LY",
        "outputId": "e73a59ec-c664-47a1-d35a-b11fdd84e600"
      },
      "execution_count": 15,
      "outputs": [
        {
          "output_type": "stream",
          "name": "stdout",
          "text": [
            "   date  value_internet  value_mobile_money\n",
            "0  2021         38.2459               79.20\n",
            "1  2017         17.8271               81.57\n",
            "2  2014         16.5000               74.66\n",
            "3  2011          8.8000               42.34\n"
          ]
        }
      ]
    },
    {
      "cell_type": "code",
      "source": [
        "# Check the unique years in the merged_data\n",
        "print(merged_data[\"date\"].unique())"
      ],
      "metadata": {
        "colab": {
          "base_uri": "https://localhost:8080/"
        },
        "id": "zFmk6592p23w",
        "outputId": "488f8d94-6f3d-4506-ca10-43e006fb0315"
      },
      "execution_count": 16,
      "outputs": [
        {
          "output_type": "stream",
          "name": "stdout",
          "text": [
            "[2021 2017 2014 2011]\n"
          ]
        }
      ]
    },
    {
      "cell_type": "code",
      "source": [
        "import altair as alt\n",
        "import pandas as pd\n",
        "\n",
        "# Function to get specific values for annotations\n",
        "def get_value(df, year, column):\n",
        "    if year in df[\"date\"].values:\n",
        "        return df[df[\"date\"] == year][column].values[0]\n",
        "    else:\n",
        "        return None  # Return None if the year is not found\n",
        "\n",
        "# Example merged data\n",
        "data = {\n",
        "    \"date\": [2011, 2013, 2015, 2017, 2019, 2021],\n",
        "    \"Internet Users\": [10, 15, 25, 35, 45, 60],\n",
        "    \"Mobile Money Accounts\": [5, 10, 20, 30, 50, 70],\n",
        "}\n",
        "merged_data = pd.DataFrame(data)\n",
        "\n",
        "# Get values for available years\n",
        "internet_2017 = get_value(merged_data, 2017, \"Internet Users\")\n",
        "mobile_money_2021 = get_value(merged_data, 2021, \"Mobile Money Accounts\")\n",
        "\n",
        "# Melt data for easier Altair visualization\n",
        "melted_data = merged_data.melt(\n",
        "    id_vars=[\"date\"],\n",
        "    value_vars=[\"Internet Users\", \"Mobile Money Accounts\"],\n",
        "    var_name=\"Indicator\",\n",
        "    value_name=\"Value\"\n",
        ")\n",
        "\n",
        "# Create the base time series plot\n",
        "fig = alt.Chart(melted_data).mark_line(point=True).encode(\n",
        "    x=alt.X(\"date:O\", title=\"Year\"),\n",
        "    y=alt.Y(\"Value:Q\", title=\"Percentage\"),\n",
        "    color=alt.Color(\"Indicator:N\", scale=alt.Scale(domain=[\"Internet Users\", \"Mobile Money Accounts\"], range=[\"green\", \"purple\"]),\n",
        "                    legend=alt.Legend(title=\"Indicators\")),\n",
        "    tooltip=[\"date:O\", \"Indicator:N\", \"Value:Q\"]\n",
        ").properties(\n",
        "    title=\"Internet Users and Mobile Money Accounts Over Time\"\n",
        ")\n",
        "\n",
        "# Add annotations\n",
        "annotations = []\n",
        "if internet_2017 is not None:\n",
        "    annotations.append(\n",
        "        alt.Chart(pd.DataFrame({\n",
        "            \"date\": [2017],\n",
        "            \"Value\": [internet_2017],\n",
        "            \"text\": [\"Key Internet Growth (2017)\"]\n",
        "        })).mark_text(\n",
        "            align=\"left\",\n",
        "            baseline=\"middle\",\n",
        "            fontSize=12,\n",
        "            color=\"green\",\n",
        "            dx=10,\n",
        "            dy=-15\n",
        "        ).encode(\n",
        "            x=\"date:O\",\n",
        "            y=\"Value:Q\",\n",
        "            text=\"text:N\"\n",
        "        )\n",
        "    )\n",
        "\n",
        "if mobile_money_2021 is not None:\n",
        "    annotations.append(\n",
        "        alt.Chart(pd.DataFrame({\n",
        "            \"date\": [2021],\n",
        "            \"Value\": [mobile_money_2021],\n",
        "            \"text\": [\"High Mobile Money Adoption (2021)\"]\n",
        "        })).mark_text(\n",
        "            align=\"right\",\n",
        "            baseline=\"middle\",\n",
        "            fontSize=12,\n",
        "            color=\"purple\",\n",
        "            dx=-10,\n",
        "            dy=-15\n",
        "        ).encode(\n",
        "            x=\"date:O\",\n",
        "            y=\"Value:Q\",\n",
        "            text=\"text:N\"\n",
        "        )\n",
        "    )\n",
        "\n",
        "# Combine the chart and annotations\n",
        "fig = fig + alt.layer(*annotations)\n",
        "\n",
        "# Save chart as JSON\n",
        "fig.save(\"chart.json\")\n",
        "\n",
        "# Display the chart\n",
        "fig.display()\n",
        "\n",
        "\n",
        "\n"
      ],
      "metadata": {
        "colab": {
          "base_uri": "https://localhost:8080/",
          "height": 414
        },
        "id": "s9yjSkK0p6EH",
        "outputId": "8a26304c-9e17-4730-b025-f88abada0f2f"
      },
      "execution_count": 21,
      "outputs": [
        {
          "output_type": "display_data",
          "data": {
            "text/html": [
              "\n",
              "<style>\n",
              "  #altair-viz-55a99bec33254cb7b02624237335a2d2.vega-embed {\n",
              "    width: 100%;\n",
              "    display: flex;\n",
              "  }\n",
              "\n",
              "  #altair-viz-55a99bec33254cb7b02624237335a2d2.vega-embed details,\n",
              "  #altair-viz-55a99bec33254cb7b02624237335a2d2.vega-embed details summary {\n",
              "    position: relative;\n",
              "  }\n",
              "</style>\n",
              "<div id=\"altair-viz-55a99bec33254cb7b02624237335a2d2\"></div>\n",
              "<script type=\"text/javascript\">\n",
              "  var VEGA_DEBUG = (typeof VEGA_DEBUG == \"undefined\") ? {} : VEGA_DEBUG;\n",
              "  (function(spec, embedOpt){\n",
              "    let outputDiv = document.currentScript.previousElementSibling;\n",
              "    if (outputDiv.id !== \"altair-viz-55a99bec33254cb7b02624237335a2d2\") {\n",
              "      outputDiv = document.getElementById(\"altair-viz-55a99bec33254cb7b02624237335a2d2\");\n",
              "    }\n",
              "\n",
              "    const paths = {\n",
              "      \"vega\": \"https://cdn.jsdelivr.net/npm/vega@5?noext\",\n",
              "      \"vega-lib\": \"https://cdn.jsdelivr.net/npm/vega-lib?noext\",\n",
              "      \"vega-lite\": \"https://cdn.jsdelivr.net/npm/vega-lite@5.20.1?noext\",\n",
              "      \"vega-embed\": \"https://cdn.jsdelivr.net/npm/vega-embed@6?noext\",\n",
              "    };\n",
              "\n",
              "    function maybeLoadScript(lib, version) {\n",
              "      var key = `${lib.replace(\"-\", \"\")}_version`;\n",
              "      return (VEGA_DEBUG[key] == version) ?\n",
              "        Promise.resolve(paths[lib]) :\n",
              "        new Promise(function(resolve, reject) {\n",
              "          var s = document.createElement('script');\n",
              "          document.getElementsByTagName(\"head\")[0].appendChild(s);\n",
              "          s.async = true;\n",
              "          s.onload = () => {\n",
              "            VEGA_DEBUG[key] = version;\n",
              "            return resolve(paths[lib]);\n",
              "          };\n",
              "          s.onerror = () => reject(`Error loading script: ${paths[lib]}`);\n",
              "          s.src = paths[lib];\n",
              "        });\n",
              "    }\n",
              "\n",
              "    function showError(err) {\n",
              "      outputDiv.innerHTML = `<div class=\"error\" style=\"color:red;\">${err}</div>`;\n",
              "      throw err;\n",
              "    }\n",
              "\n",
              "    function displayChart(vegaEmbed) {\n",
              "      vegaEmbed(outputDiv, spec, embedOpt)\n",
              "        .catch(err => showError(`Javascript Error: ${err.message}<br>This usually means there's a typo in your chart specification. See the javascript console for the full traceback.`));\n",
              "    }\n",
              "\n",
              "    if(typeof define === \"function\" && define.amd) {\n",
              "      requirejs.config({paths});\n",
              "      let deps = [\"vega-embed\"];\n",
              "      require(deps, displayChart, err => showError(`Error loading script: ${err.message}`));\n",
              "    } else {\n",
              "      maybeLoadScript(\"vega\", \"5\")\n",
              "        .then(() => maybeLoadScript(\"vega-lite\", \"5.20.1\"))\n",
              "        .then(() => maybeLoadScript(\"vega-embed\", \"6\"))\n",
              "        .catch(showError)\n",
              "        .then(() => displayChart(vegaEmbed));\n",
              "    }\n",
              "  })({\"config\": {\"view\": {\"continuousWidth\": 300, \"continuousHeight\": 300}}, \"layer\": [{\"data\": {\"name\": \"data-422c16e49ce303be15dd76464cdba44f\"}, \"mark\": {\"type\": \"line\", \"point\": true}, \"encoding\": {\"color\": {\"field\": \"Indicator\", \"legend\": {\"title\": \"Indicators\"}, \"scale\": {\"domain\": [\"Internet Users\", \"Mobile Money Accounts\"], \"range\": [\"green\", \"purple\"]}, \"type\": \"nominal\"}, \"tooltip\": [{\"field\": \"date\", \"type\": \"ordinal\"}, {\"field\": \"Indicator\", \"type\": \"nominal\"}, {\"field\": \"Value\", \"type\": \"quantitative\"}], \"x\": {\"field\": \"date\", \"title\": \"Year\", \"type\": \"ordinal\"}, \"y\": {\"field\": \"Value\", \"title\": \"Percentage\", \"type\": \"quantitative\"}}, \"title\": \"Internet Users and Mobile Money Accounts Over Time\"}, {\"layer\": [{\"data\": {\"name\": \"data-c3824868062c9360bd15adba91117398\"}, \"mark\": {\"type\": \"text\", \"align\": \"left\", \"baseline\": \"middle\", \"color\": \"green\", \"dx\": 10, \"dy\": -15, \"fontSize\": 12}, \"encoding\": {\"text\": {\"field\": \"text\", \"type\": \"nominal\"}, \"x\": {\"field\": \"date\", \"type\": \"ordinal\"}, \"y\": {\"field\": \"Value\", \"type\": \"quantitative\"}}}, {\"data\": {\"name\": \"data-7ce02dccf16d675d8e95b8f5c89a8986\"}, \"mark\": {\"type\": \"text\", \"align\": \"right\", \"baseline\": \"middle\", \"color\": \"purple\", \"dx\": -10, \"dy\": -15, \"fontSize\": 12}, \"encoding\": {\"text\": {\"field\": \"text\", \"type\": \"nominal\"}, \"x\": {\"field\": \"date\", \"type\": \"ordinal\"}, \"y\": {\"field\": \"Value\", \"type\": \"quantitative\"}}}]}], \"$schema\": \"https://vega.github.io/schema/vega-lite/v5.20.1.json\", \"datasets\": {\"data-422c16e49ce303be15dd76464cdba44f\": [{\"date\": 2011, \"Indicator\": \"Internet Users\", \"Value\": 10}, {\"date\": 2013, \"Indicator\": \"Internet Users\", \"Value\": 15}, {\"date\": 2015, \"Indicator\": \"Internet Users\", \"Value\": 25}, {\"date\": 2017, \"Indicator\": \"Internet Users\", \"Value\": 35}, {\"date\": 2019, \"Indicator\": \"Internet Users\", \"Value\": 45}, {\"date\": 2021, \"Indicator\": \"Internet Users\", \"Value\": 60}, {\"date\": 2011, \"Indicator\": \"Mobile Money Accounts\", \"Value\": 5}, {\"date\": 2013, \"Indicator\": \"Mobile Money Accounts\", \"Value\": 10}, {\"date\": 2015, \"Indicator\": \"Mobile Money Accounts\", \"Value\": 20}, {\"date\": 2017, \"Indicator\": \"Mobile Money Accounts\", \"Value\": 30}, {\"date\": 2019, \"Indicator\": \"Mobile Money Accounts\", \"Value\": 50}, {\"date\": 2021, \"Indicator\": \"Mobile Money Accounts\", \"Value\": 70}], \"data-c3824868062c9360bd15adba91117398\": [{\"date\": 2017, \"Value\": 35, \"text\": \"Key Internet Growth (2017)\"}], \"data-7ce02dccf16d675d8e95b8f5c89a8986\": [{\"date\": 2021, \"Value\": 70, \"text\": \"High Mobile Money Adoption (2021)\"}]}}, {\"mode\": \"vega-lite\"});\n",
              "</script>"
            ],
            "text/plain": [
              "alt.LayerChart(...)"
            ]
          },
          "metadata": {}
        }
      ]
    },
    {
      "cell_type": "code",
      "source": [
        "# Install Altair if not already installed\n",
        "!pip install altair --quiet\n",
        "\n",
        "import altair as alt\n",
        "import pandas as pd\n",
        "import numpy as np\n",
        "\n",
        "# Load the Mobile Money Accounts dataset\n",
        "mobile_money_data = pd.read_csv(\"mobile_money_accounts_kenya.csv\")\n",
        "\n",
        "# Simulate adding age group data (if not already available in your dataset)\n",
        "# Replace this with real data if age groups exist\n",
        "np.random.seed(42)  # For reproducibility\n",
        "age_groups = [\"15-24\", \"25-34\", \"35-44\", \"45-54\", \"55+\"]\n",
        "mobile_money_data = mobile_money_data.dropna()  # Ensure no missing values\n",
        "mobile_money_data[\"age_group\"] = np.random.choice(age_groups, size=len(mobile_money_data))\n",
        "\n",
        "# Prepare the data: Ensure numeric year and valid columns\n",
        "mobile_money_data[\"date\"] = pd.to_numeric(mobile_money_data[\"date\"], errors=\"coerce\")\n",
        "mobile_money_data = mobile_money_data.dropna()  # Drop rows with invalid dates or values\n",
        "\n",
        "# Create a slider for selecting the year\n",
        "slider = alt.binding_range(\n",
        "    min=int(mobile_money_data[\"date\"].min()),\n",
        "    max=int(mobile_money_data[\"date\"].max()),\n",
        "    step=1,\n",
        "    name=\"Select Year: \"\n",
        ")\n",
        "\n",
        "# Define a selection using `alt.selection_point`\n",
        "year_selector = alt.selection_point(\n",
        "    fields=[\"date\"],\n",
        "    bind=slider\n",
        ")\n",
        "\n",
        "# Create the bar chart\n",
        "chart = alt.Chart(mobile_money_data).transform_filter(\n",
        "    year_selector\n",
        ").mark_bar().encode(\n",
        "    x=alt.X(\"age_group:N\", title=\"Age Group\"),\n",
        "    y=alt.Y(\"value:Q\", title=\"Percentage of Ownership\"),\n",
        "    color=alt.Color(\"age_group:N\", legend=None),\n",
        "    tooltip=[\n",
        "        alt.Tooltip(\"age_group:N\", title=\"Age Group\"),\n",
        "        alt.Tooltip(\"value:Q\", title=\"Percentage (%)\"),\n",
        "        alt.Tooltip(\"date:O\", title=\"Year\")\n",
        "    ]\n",
        ").add_selection(\n",
        "    year_selector\n",
        ").properties(\n",
        "    title=\"Adoption of Mobile Money Accounts by Age Group Over Time\",\n",
        "    width=700,\n",
        "    height=400\n",
        ")\n",
        "\n",
        "# Display the chart\n",
        "chart\n",
        "\n"
      ],
      "metadata": {
        "colab": {
          "base_uri": "https://localhost:8080/",
          "height": 614
        },
        "id": "8YgKSkrN6z4J",
        "outputId": "4d812b7d-d5e9-471b-c745-f90873bdd560"
      },
      "execution_count": 47,
      "outputs": [
        {
          "output_type": "stream",
          "name": "stderr",
          "text": [
            "<ipython-input-47-47960455652c>:48: AltairDeprecationWarning:\n",
            "\n",
            "\n",
            "Deprecated since `altair=5.0.0`. Use add_params instead.\n",
            "\n"
          ]
        },
        {
          "output_type": "execute_result",
          "data": {
            "text/html": [
              "\n",
              "<style>\n",
              "  #altair-viz-7e6e4e5db79d4f349dd51f721bf6fcba.vega-embed {\n",
              "    width: 100%;\n",
              "    display: flex;\n",
              "  }\n",
              "\n",
              "  #altair-viz-7e6e4e5db79d4f349dd51f721bf6fcba.vega-embed details,\n",
              "  #altair-viz-7e6e4e5db79d4f349dd51f721bf6fcba.vega-embed details summary {\n",
              "    position: relative;\n",
              "  }\n",
              "</style>\n",
              "<div id=\"altair-viz-7e6e4e5db79d4f349dd51f721bf6fcba\"></div>\n",
              "<script type=\"text/javascript\">\n",
              "  var VEGA_DEBUG = (typeof VEGA_DEBUG == \"undefined\") ? {} : VEGA_DEBUG;\n",
              "  (function(spec, embedOpt){\n",
              "    let outputDiv = document.currentScript.previousElementSibling;\n",
              "    if (outputDiv.id !== \"altair-viz-7e6e4e5db79d4f349dd51f721bf6fcba\") {\n",
              "      outputDiv = document.getElementById(\"altair-viz-7e6e4e5db79d4f349dd51f721bf6fcba\");\n",
              "    }\n",
              "\n",
              "    const paths = {\n",
              "      \"vega\": \"https://cdn.jsdelivr.net/npm/vega@5?noext\",\n",
              "      \"vega-lib\": \"https://cdn.jsdelivr.net/npm/vega-lib?noext\",\n",
              "      \"vega-lite\": \"https://cdn.jsdelivr.net/npm/vega-lite@5.20.1?noext\",\n",
              "      \"vega-embed\": \"https://cdn.jsdelivr.net/npm/vega-embed@6?noext\",\n",
              "    };\n",
              "\n",
              "    function maybeLoadScript(lib, version) {\n",
              "      var key = `${lib.replace(\"-\", \"\")}_version`;\n",
              "      return (VEGA_DEBUG[key] == version) ?\n",
              "        Promise.resolve(paths[lib]) :\n",
              "        new Promise(function(resolve, reject) {\n",
              "          var s = document.createElement('script');\n",
              "          document.getElementsByTagName(\"head\")[0].appendChild(s);\n",
              "          s.async = true;\n",
              "          s.onload = () => {\n",
              "            VEGA_DEBUG[key] = version;\n",
              "            return resolve(paths[lib]);\n",
              "          };\n",
              "          s.onerror = () => reject(`Error loading script: ${paths[lib]}`);\n",
              "          s.src = paths[lib];\n",
              "        });\n",
              "    }\n",
              "\n",
              "    function showError(err) {\n",
              "      outputDiv.innerHTML = `<div class=\"error\" style=\"color:red;\">${err}</div>`;\n",
              "      throw err;\n",
              "    }\n",
              "\n",
              "    function displayChart(vegaEmbed) {\n",
              "      vegaEmbed(outputDiv, spec, embedOpt)\n",
              "        .catch(err => showError(`Javascript Error: ${err.message}<br>This usually means there's a typo in your chart specification. See the javascript console for the full traceback.`));\n",
              "    }\n",
              "\n",
              "    if(typeof define === \"function\" && define.amd) {\n",
              "      requirejs.config({paths});\n",
              "      let deps = [\"vega-embed\"];\n",
              "      require(deps, displayChart, err => showError(`Error loading script: ${err.message}`));\n",
              "    } else {\n",
              "      maybeLoadScript(\"vega\", \"5\")\n",
              "        .then(() => maybeLoadScript(\"vega-lite\", \"5.20.1\"))\n",
              "        .then(() => maybeLoadScript(\"vega-embed\", \"6\"))\n",
              "        .catch(showError)\n",
              "        .then(() => displayChart(vegaEmbed));\n",
              "    }\n",
              "  })({\"config\": {\"view\": {\"continuousWidth\": 300, \"continuousHeight\": 300}}, \"data\": {\"name\": \"data-06dedd11835edd8d2261ef30d8b42178\"}, \"mark\": {\"type\": \"bar\"}, \"encoding\": {\"color\": {\"field\": \"age_group\", \"legend\": null, \"type\": \"nominal\"}, \"tooltip\": [{\"field\": \"age_group\", \"title\": \"Age Group\", \"type\": \"nominal\"}, {\"field\": \"value\", \"title\": \"Percentage (%)\", \"type\": \"quantitative\"}, {\"field\": \"date\", \"title\": \"Year\", \"type\": \"ordinal\"}], \"x\": {\"field\": \"age_group\", \"title\": \"Age Group\", \"type\": \"nominal\"}, \"y\": {\"field\": \"value\", \"title\": \"Percentage of Ownership\", \"type\": \"quantitative\"}}, \"height\": 400, \"params\": [{\"name\": \"param_27\", \"select\": {\"type\": \"point\", \"fields\": [\"date\"]}, \"bind\": {\"input\": \"range\", \"max\": 2021, \"min\": 2011, \"name\": \"Select Year: \", \"step\": 1}}], \"title\": \"Adoption of Mobile Money Accounts by Age Group Over Time\", \"transform\": [{\"filter\": {\"param\": \"param_27\"}}], \"width\": 700, \"$schema\": \"https://vega.github.io/schema/vega-lite/v5.20.1.json\", \"datasets\": {\"data-06dedd11835edd8d2261ef30d8b42178\": [{\"date\": 2021, \"value\": 79.2, \"age_group\": \"45-54\"}, {\"date\": 2017, \"value\": 81.57, \"age_group\": \"55+\"}, {\"date\": 2014, \"value\": 74.66, \"age_group\": \"35-44\"}, {\"date\": 2011, \"value\": 42.34, \"age_group\": \"55+\"}]}}, {\"mode\": \"vega-lite\"});\n",
              "</script>"
            ],
            "text/plain": [
              "alt.Chart(...)"
            ]
          },
          "metadata": {},
          "execution_count": 47
        }
      ]
    },
    {
      "cell_type": "code",
      "source": [
        "import pandas as pd\n",
        "import altair as alt\n",
        "\n",
        "# Load the datasets\n",
        "mobile_data = pd.read_csv(\"mobile_data_kenya.csv\")\n",
        "internet_users = pd.read_csv(\"internet_users_kenya.csv\")\n",
        "mobile_money_accounts = pd.read_csv(\"mobile_money_accounts_kenya.csv\")\n",
        "\n",
        "# Add a column to distinguish indicators\n",
        "mobile_data[\"Indicator\"] = \"Mobile Supscriptions (Millions)\"\n",
        "internet_users[\"Indicator\"] = \"Internet Users (% of Population)\"\n",
        "mobile_money_accounts[\"Indicator\"] = \"Mobile Money Accounts (% of Adults)\"\n",
        "\n",
        "# Combine datasets\n",
        "all_data = pd.concat([mobile_data, internet_users, mobile_money_accounts], ignore_index=True)\n",
        "\n",
        "# Ensure the 'date' and 'value' columns are numeric\n",
        "all_data[\"date\"] = pd.to_numeric(all_data[\"date\"], errors=\"coerce\")\n",
        "all_data[\"value\"] = pd.to_numeric(all_data[\"value\"], errors=\"coerce\")\n",
        "all_data = all_data.dropna()  # Drop rows with missing data\n",
        "\n",
        "# Create an indicator dropdown selection\n",
        "dropdown = alt.binding_select(\n",
        "    options=list(all_data[\"Indicator\"].unique()),  # Get unique indicator names\n",
        "    name=\"Select Indicator: \"\n",
        ")\n",
        "indicator_selection = alt.selection_point(fields=[\"Indicator\"], bind=dropdown)\n",
        "\n",
        "# Create the interactive line chart\n",
        "chart = alt.Chart(all_data).transform_filter(\n",
        "    indicator_selection\n",
        ").mark_line(point=True).encode(\n",
        "    x=alt.X(\"date:O\", title=\"Year\"),\n",
        "    y=alt.Y(\"value:Q\", title=\"Value\"),\n",
        "    color=alt.Color(\"Indicator:N\", legend=None),\n",
        "    tooltip=[\n",
        "        alt.Tooltip(\"date:O\", title=\"Year\"),\n",
        "        alt.Tooltip(\"value:Q\", title=\"Value\"),\n",
        "        alt.Tooltip(\"Indicator:N\", title=\"Indicator\")\n",
        "    ]\n",
        ").add_selection(\n",
        "    indicator_selection\n",
        ").properties(\n",
        "    title=\"Technological Growth and Digital Financial Inclusion in Kenya\",\n",
        "    width=700,\n",
        "    height=400\n",
        ")\n",
        "\n",
        "# Display the chart\n",
        "chart\n",
        "\n"
      ],
      "metadata": {
        "colab": {
          "base_uri": "https://localhost:8080/",
          "height": 606
        },
        "id": "5dFXMd8b8VGf",
        "outputId": "6fea6177-e66d-4f15-d200-a4912a89f65a"
      },
      "execution_count": 55,
      "outputs": [
        {
          "output_type": "stream",
          "name": "stderr",
          "text": [
            "<ipython-input-55-ae8da678241d>:41: AltairDeprecationWarning:\n",
            "\n",
            "\n",
            "Deprecated since `altair=5.0.0`. Use add_params instead.\n",
            "\n"
          ]
        },
        {
          "output_type": "execute_result",
          "data": {
            "text/html": [
              "\n",
              "<style>\n",
              "  #altair-viz-8c44557b802f4efeb161046dc4a8a8af.vega-embed {\n",
              "    width: 100%;\n",
              "    display: flex;\n",
              "  }\n",
              "\n",
              "  #altair-viz-8c44557b802f4efeb161046dc4a8a8af.vega-embed details,\n",
              "  #altair-viz-8c44557b802f4efeb161046dc4a8a8af.vega-embed details summary {\n",
              "    position: relative;\n",
              "  }\n",
              "</style>\n",
              "<div id=\"altair-viz-8c44557b802f4efeb161046dc4a8a8af\"></div>\n",
              "<script type=\"text/javascript\">\n",
              "  var VEGA_DEBUG = (typeof VEGA_DEBUG == \"undefined\") ? {} : VEGA_DEBUG;\n",
              "  (function(spec, embedOpt){\n",
              "    let outputDiv = document.currentScript.previousElementSibling;\n",
              "    if (outputDiv.id !== \"altair-viz-8c44557b802f4efeb161046dc4a8a8af\") {\n",
              "      outputDiv = document.getElementById(\"altair-viz-8c44557b802f4efeb161046dc4a8a8af\");\n",
              "    }\n",
              "\n",
              "    const paths = {\n",
              "      \"vega\": \"https://cdn.jsdelivr.net/npm/vega@5?noext\",\n",
              "      \"vega-lib\": \"https://cdn.jsdelivr.net/npm/vega-lib?noext\",\n",
              "      \"vega-lite\": \"https://cdn.jsdelivr.net/npm/vega-lite@5.20.1?noext\",\n",
              "      \"vega-embed\": \"https://cdn.jsdelivr.net/npm/vega-embed@6?noext\",\n",
              "    };\n",
              "\n",
              "    function maybeLoadScript(lib, version) {\n",
              "      var key = `${lib.replace(\"-\", \"\")}_version`;\n",
              "      return (VEGA_DEBUG[key] == version) ?\n",
              "        Promise.resolve(paths[lib]) :\n",
              "        new Promise(function(resolve, reject) {\n",
              "          var s = document.createElement('script');\n",
              "          document.getElementsByTagName(\"head\")[0].appendChild(s);\n",
              "          s.async = true;\n",
              "          s.onload = () => {\n",
              "            VEGA_DEBUG[key] = version;\n",
              "            return resolve(paths[lib]);\n",
              "          };\n",
              "          s.onerror = () => reject(`Error loading script: ${paths[lib]}`);\n",
              "          s.src = paths[lib];\n",
              "        });\n",
              "    }\n",
              "\n",
              "    function showError(err) {\n",
              "      outputDiv.innerHTML = `<div class=\"error\" style=\"color:red;\">${err}</div>`;\n",
              "      throw err;\n",
              "    }\n",
              "\n",
              "    function displayChart(vegaEmbed) {\n",
              "      vegaEmbed(outputDiv, spec, embedOpt)\n",
              "        .catch(err => showError(`Javascript Error: ${err.message}<br>This usually means there's a typo in your chart specification. See the javascript console for the full traceback.`));\n",
              "    }\n",
              "\n",
              "    if(typeof define === \"function\" && define.amd) {\n",
              "      requirejs.config({paths});\n",
              "      let deps = [\"vega-embed\"];\n",
              "      require(deps, displayChart, err => showError(`Error loading script: ${err.message}`));\n",
              "    } else {\n",
              "      maybeLoadScript(\"vega\", \"5\")\n",
              "        .then(() => maybeLoadScript(\"vega-lite\", \"5.20.1\"))\n",
              "        .then(() => maybeLoadScript(\"vega-embed\", \"6\"))\n",
              "        .catch(showError)\n",
              "        .then(() => displayChart(vegaEmbed));\n",
              "    }\n",
              "  })({\"config\": {\"view\": {\"continuousWidth\": 300, \"continuousHeight\": 300}}, \"data\": {\"name\": \"data-31cc627f2128c21fcffa221994e2ea76\"}, \"mark\": {\"type\": \"line\", \"point\": true}, \"encoding\": {\"color\": {\"field\": \"Indicator\", \"legend\": null, \"type\": \"nominal\"}, \"tooltip\": [{\"field\": \"date\", \"title\": \"Year\", \"type\": \"ordinal\"}, {\"field\": \"value\", \"title\": \"Value\", \"type\": \"quantitative\"}, {\"field\": \"Indicator\", \"title\": \"Indicator\", \"type\": \"nominal\"}], \"x\": {\"field\": \"date\", \"title\": \"Year\", \"type\": \"ordinal\"}, \"y\": {\"field\": \"value\", \"title\": \"Value\", \"type\": \"quantitative\"}}, \"height\": 400, \"params\": [{\"name\": \"param_35\", \"select\": {\"type\": \"point\", \"fields\": [\"Indicator\"]}, \"bind\": {\"input\": \"select\", \"options\": [\"Mobile Supscriptions (Millions)\", \"Internet Users (% of Population)\", \"Mobile Money Accounts (% of Adults)\"], \"name\": \"Select Indicator: \"}}], \"title\": \"Technological Growth and Digital Financial Inclusion in Kenya\", \"transform\": [{\"filter\": {\"param\": \"param_35\"}}], \"width\": 700, \"$schema\": \"https://vega.github.io/schema/vega-lite/v5.20.1.json\", \"datasets\": {\"data-31cc627f2128c21fcffa221994e2ea76\": [{\"date\": 2023, \"value\": 66700000.0, \"Indicator\": \"Mobile Supscriptions (Millions)\"}, {\"date\": 2022, \"value\": 65700000.0, \"Indicator\": \"Mobile Supscriptions (Millions)\"}, {\"date\": 2021, \"value\": 65100000.0, \"Indicator\": \"Mobile Supscriptions (Millions)\"}, {\"date\": 2020, \"value\": 61400000.0, \"Indicator\": \"Mobile Supscriptions (Millions)\"}, {\"date\": 2019, \"value\": 54600000.0, \"Indicator\": \"Mobile Supscriptions (Millions)\"}, {\"date\": 2018, \"value\": 49500000.0, \"Indicator\": \"Mobile Supscriptions (Millions)\"}, {\"date\": 2017, \"value\": 42800000.0, \"Indicator\": \"Mobile Supscriptions (Millions)\"}, {\"date\": 2016, \"value\": 39000000.0, \"Indicator\": \"Mobile Supscriptions (Millions)\"}, {\"date\": 2015, \"value\": 37700000.0, \"Indicator\": \"Mobile Supscriptions (Millions)\"}, {\"date\": 2014, \"value\": 33600000.0, \"Indicator\": \"Mobile Supscriptions (Millions)\"}, {\"date\": 2013, \"value\": 31800000.0, \"Indicator\": \"Mobile Supscriptions (Millions)\"}, {\"date\": 2012, \"value\": 30700000.0, \"Indicator\": \"Mobile Supscriptions (Millions)\"}, {\"date\": 2011, \"value\": 28100000.0, \"Indicator\": \"Mobile Supscriptions (Millions)\"}, {\"date\": 2010, \"value\": 25000000.0, \"Indicator\": \"Mobile Supscriptions (Millions)\"}, {\"date\": 2009, \"value\": 19400000.0, \"Indicator\": \"Mobile Supscriptions (Millions)\"}, {\"date\": 2008, \"value\": 16300000.0, \"Indicator\": \"Mobile Supscriptions (Millions)\"}, {\"date\": 2007, \"value\": 11300000.0, \"Indicator\": \"Mobile Supscriptions (Millions)\"}, {\"date\": 2006, \"value\": 7340000.0, \"Indicator\": \"Mobile Supscriptions (Millions)\"}, {\"date\": 2005, \"value\": 4610000.0, \"Indicator\": \"Mobile Supscriptions (Millions)\"}, {\"date\": 2004, \"value\": 2550000.0, \"Indicator\": \"Mobile Supscriptions (Millions)\"}, {\"date\": 2003, \"value\": 1590000.0, \"Indicator\": \"Mobile Supscriptions (Millions)\"}, {\"date\": 2002, \"value\": 1190000.0, \"Indicator\": \"Mobile Supscriptions (Millions)\"}, {\"date\": 2001, \"value\": 600000.0, \"Indicator\": \"Mobile Supscriptions (Millions)\"}, {\"date\": 2000, \"value\": 127404.0, \"Indicator\": \"Mobile Supscriptions (Millions)\"}, {\"date\": 1999, \"value\": 23757.0, \"Indicator\": \"Mobile Supscriptions (Millions)\"}, {\"date\": 1998, \"value\": 10756.0, \"Indicator\": \"Mobile Supscriptions (Millions)\"}, {\"date\": 1997, \"value\": 6767.0, \"Indicator\": \"Mobile Supscriptions (Millions)\"}, {\"date\": 1996, \"value\": 2826.0, \"Indicator\": \"Mobile Supscriptions (Millions)\"}, {\"date\": 1995, \"value\": 2279.0, \"Indicator\": \"Mobile Supscriptions (Millions)\"}, {\"date\": 1994, \"value\": 1990.0, \"Indicator\": \"Mobile Supscriptions (Millions)\"}, {\"date\": 1993, \"value\": 1162.0, \"Indicator\": \"Mobile Supscriptions (Millions)\"}, {\"date\": 1992, \"value\": 1100.0, \"Indicator\": \"Mobile Supscriptions (Millions)\"}, {\"date\": 1991, \"value\": 0.0, \"Indicator\": \"Mobile Supscriptions (Millions)\"}, {\"date\": 1990, \"value\": 0.0, \"Indicator\": \"Mobile Supscriptions (Millions)\"}, {\"date\": 1989, \"value\": 0.0, \"Indicator\": \"Mobile Supscriptions (Millions)\"}, {\"date\": 1988, \"value\": 0.0, \"Indicator\": \"Mobile Supscriptions (Millions)\"}, {\"date\": 1987, \"value\": 0.0, \"Indicator\": \"Mobile Supscriptions (Millions)\"}, {\"date\": 1986, \"value\": 0.0, \"Indicator\": \"Mobile Supscriptions (Millions)\"}, {\"date\": 1985, \"value\": 0.0, \"Indicator\": \"Mobile Supscriptions (Millions)\"}, {\"date\": 1984, \"value\": 0.0, \"Indicator\": \"Mobile Supscriptions (Millions)\"}, {\"date\": 1983, \"value\": 0.0, \"Indicator\": \"Mobile Supscriptions (Millions)\"}, {\"date\": 1982, \"value\": 0.0, \"Indicator\": \"Mobile Supscriptions (Millions)\"}, {\"date\": 1981, \"value\": 0.0, \"Indicator\": \"Mobile Supscriptions (Millions)\"}, {\"date\": 1980, \"value\": 0.0, \"Indicator\": \"Mobile Supscriptions (Millions)\"}, {\"date\": 1979, \"value\": 0.0, \"Indicator\": \"Mobile Supscriptions (Millions)\"}, {\"date\": 1978, \"value\": 0.0, \"Indicator\": \"Mobile Supscriptions (Millions)\"}, {\"date\": 1977, \"value\": 0.0, \"Indicator\": \"Mobile Supscriptions (Millions)\"}, {\"date\": 1976, \"value\": 0.0, \"Indicator\": \"Mobile Supscriptions (Millions)\"}, {\"date\": 1975, \"value\": 0.0, \"Indicator\": \"Mobile Supscriptions (Millions)\"}, {\"date\": 2022, \"value\": 40.8137, \"Indicator\": \"Internet Users (% of Population)\"}, {\"date\": 2021, \"value\": 38.2459, \"Indicator\": \"Internet Users (% of Population)\"}, {\"date\": 2020, \"value\": 27.5774, \"Indicator\": \"Internet Users (% of Population)\"}, {\"date\": 2019, \"value\": 22.6688, \"Indicator\": \"Internet Users (% of Population)\"}, {\"date\": 2018, \"value\": 19.5, \"Indicator\": \"Internet Users (% of Population)\"}, {\"date\": 2017, \"value\": 17.8271, \"Indicator\": \"Internet Users (% of Population)\"}, {\"date\": 2016, \"value\": 16.6, \"Indicator\": \"Internet Users (% of Population)\"}, {\"date\": 2015, \"value\": 16.5879, \"Indicator\": \"Internet Users (% of Population)\"}, {\"date\": 2014, \"value\": 16.5, \"Indicator\": \"Internet Users (% of Population)\"}, {\"date\": 2013, \"value\": 13.0, \"Indicator\": \"Internet Users (% of Population)\"}, {\"date\": 2012, \"value\": 10.5, \"Indicator\": \"Internet Users (% of Population)\"}, {\"date\": 2011, \"value\": 8.8, \"Indicator\": \"Internet Users (% of Population)\"}, {\"date\": 2010, \"value\": 7.2, \"Indicator\": \"Internet Users (% of Population)\"}, {\"date\": 2009, \"value\": 6.1, \"Indicator\": \"Internet Users (% of Population)\"}, {\"date\": 2008, \"value\": 5.2, \"Indicator\": \"Internet Users (% of Population)\"}, {\"date\": 2007, \"value\": 4.4, \"Indicator\": \"Internet Users (% of Population)\"}, {\"date\": 2006, \"value\": 3.6, \"Indicator\": \"Internet Users (% of Population)\"}, {\"date\": 2005, \"value\": 3.1019, \"Indicator\": \"Internet Users (% of Population)\"}, {\"date\": 2004, \"value\": 3.02353, \"Indicator\": \"Internet Users (% of Population)\"}, {\"date\": 2003, \"value\": 2.9419, \"Indicator\": \"Internet Users (% of Population)\"}, {\"date\": 2002, \"value\": 1.20777, \"Indicator\": \"Internet Users (% of Population)\"}, {\"date\": 2001, \"value\": 0.619782, \"Indicator\": \"Internet Users (% of Population)\"}, {\"date\": 2000, \"value\": 0.31806, \"Indicator\": \"Internet Users (% of Population)\"}, {\"date\": 1999, \"value\": 0.114256028, \"Indicator\": \"Internet Users (% of Population)\"}, {\"date\": 1998, \"value\": 0.050261388, \"Indicator\": \"Internet Users (% of Population)\"}, {\"date\": 1997, \"value\": 0.034406051, \"Indicator\": \"Internet Users (% of Population)\"}, {\"date\": 1996, \"value\": 0.008839115, \"Indicator\": \"Internet Users (% of Population)\"}, {\"date\": 1995, \"value\": 0.000727482, \"Indicator\": \"Internet Users (% of Population)\"}, {\"date\": 1994, \"value\": 0.0, \"Indicator\": \"Internet Users (% of Population)\"}, {\"date\": 1993, \"value\": 0.0, \"Indicator\": \"Internet Users (% of Population)\"}, {\"date\": 1992, \"value\": 0.0, \"Indicator\": \"Internet Users (% of Population)\"}, {\"date\": 1991, \"value\": 0.0, \"Indicator\": \"Internet Users (% of Population)\"}, {\"date\": 1990, \"value\": 0.0, \"Indicator\": \"Internet Users (% of Population)\"}, {\"date\": 2021, \"value\": 79.2, \"Indicator\": \"Mobile Money Accounts (% of Adults)\"}, {\"date\": 2017, \"value\": 81.57, \"Indicator\": \"Mobile Money Accounts (% of Adults)\"}, {\"date\": 2014, \"value\": 74.66, \"Indicator\": \"Mobile Money Accounts (% of Adults)\"}, {\"date\": 2011, \"value\": 42.34, \"Indicator\": \"Mobile Money Accounts (% of Adults)\"}]}}, {\"mode\": \"vega-lite\"});\n",
              "</script>"
            ],
            "text/plain": [
              "alt.Chart(...)"
            ]
          },
          "metadata": {},
          "execution_count": 55
        }
      ]
    },
    {
      "cell_type": "code",
      "source": [
        "import pandas as pd\n",
        "import altair as alt\n",
        "\n",
        "# Load the datasets\n",
        "mobile_data = pd.read_csv(\"mobile_data_kenya.csv\")\n",
        "mobile_money_accounts = pd.read_csv(\"mobile_money_accounts_kenya.csv\")\n",
        "\n",
        "# Merge the datasets on the \"date\" column\n",
        "merged_data = pd.merge(mobile_data, mobile_money_accounts, on=\"date\", suffixes=(\"_mobile\", \"_money\"))\n",
        "\n",
        "# Ensure the 'date' and 'value' columns are numeric\n",
        "merged_data[\"date\"] = pd.to_numeric(merged_data[\"date\"], errors=\"coerce\")\n",
        "merged_data[\"value_mobile\"] = pd.to_numeric(merged_data[\"value_mobile\"], errors=\"coerce\")\n",
        "merged_data[\"value_money\"] = pd.to_numeric(merged_data[\"value_money\"], errors=\"coerce\")\n",
        "merged_data = merged_data.dropna()  # Drop rows with missing data\n",
        "\n",
        "# Create a year slider selection\n",
        "slider = alt.binding_range(min=int(merged_data[\"date\"].min()), max=int(merged_data[\"date\"].max()), step=1, name=\"Select Year: \")\n",
        "year_selector = alt.selection_point(fields=[\"date\"], bind=slider)\n",
        "\n",
        "# Create the scatter plot\n",
        "scatter = alt.Chart(merged_data).mark_circle(size=100, opacity=0.7).encode(\n",
        "    x=alt.X(\"value_mobile:Q\", title=\"Mobile Data Subscriptions (Millions)\"),\n",
        "    y=alt.Y(\"value_money:Q\", title=\"Mobile Money Accounts (% of Adults)\"),\n",
        "    color=alt.Color(\"date:O\", scale=alt.Scale(scheme=\"viridis\"), title=\"Year\"),\n",
        "    tooltip=[\n",
        "        alt.Tooltip(\"date:O\", title=\"Year\"),\n",
        "        alt.Tooltip(\"value_mobile:Q\", title=\"Mobile Data Subscriptions\"),\n",
        "        alt.Tooltip(\"value_money:Q\", title=\"Mobile Money Accounts\"),\n",
        "    ]\n",
        ").add_selection(\n",
        "    year_selector\n",
        ").transform_filter(\n",
        "    year_selector\n",
        ").properties(\n",
        "    title=\"Correlation Between Mobile Data Usage and Mobile Money Accounts Over Time\",\n",
        "    width=700,\n",
        "    height=400\n",
        ")\n",
        "\n",
        "# Add a trend line\n",
        "trend_line = scatter.transform_regression(\n",
        "    \"value_mobile\", \"value_money\", method=\"linear\"\n",
        ").mark_line(color=\"red\", opacity=0.7)\n",
        "\n",
        "# Combine scatter plot and trend line\n",
        "chart = scatter + trend_line\n",
        "\n",
        "# Display the chart\n",
        "chart\n"
      ],
      "metadata": {
        "colab": {
          "base_uri": "https://localhost:8080/",
          "height": 598
        },
        "id": "TF6oJJnR9up8",
        "outputId": "9be3b329-7600-4cdb-f4f2-a4df93bc3380"
      },
      "execution_count": 56,
      "outputs": [
        {
          "output_type": "stream",
          "name": "stderr",
          "text": [
            "<ipython-input-56-085c86e828cd>:31: AltairDeprecationWarning:\n",
            "\n",
            "\n",
            "Deprecated since `altair=5.0.0`. Use add_params instead.\n",
            "\n"
          ]
        },
        {
          "output_type": "execute_result",
          "data": {
            "text/html": [
              "\n",
              "<style>\n",
              "  #altair-viz-3eacf28a0fff4d248a27bff62237526e.vega-embed {\n",
              "    width: 100%;\n",
              "    display: flex;\n",
              "  }\n",
              "\n",
              "  #altair-viz-3eacf28a0fff4d248a27bff62237526e.vega-embed details,\n",
              "  #altair-viz-3eacf28a0fff4d248a27bff62237526e.vega-embed details summary {\n",
              "    position: relative;\n",
              "  }\n",
              "</style>\n",
              "<div id=\"altair-viz-3eacf28a0fff4d248a27bff62237526e\"></div>\n",
              "<script type=\"text/javascript\">\n",
              "  var VEGA_DEBUG = (typeof VEGA_DEBUG == \"undefined\") ? {} : VEGA_DEBUG;\n",
              "  (function(spec, embedOpt){\n",
              "    let outputDiv = document.currentScript.previousElementSibling;\n",
              "    if (outputDiv.id !== \"altair-viz-3eacf28a0fff4d248a27bff62237526e\") {\n",
              "      outputDiv = document.getElementById(\"altair-viz-3eacf28a0fff4d248a27bff62237526e\");\n",
              "    }\n",
              "\n",
              "    const paths = {\n",
              "      \"vega\": \"https://cdn.jsdelivr.net/npm/vega@5?noext\",\n",
              "      \"vega-lib\": \"https://cdn.jsdelivr.net/npm/vega-lib?noext\",\n",
              "      \"vega-lite\": \"https://cdn.jsdelivr.net/npm/vega-lite@5.20.1?noext\",\n",
              "      \"vega-embed\": \"https://cdn.jsdelivr.net/npm/vega-embed@6?noext\",\n",
              "    };\n",
              "\n",
              "    function maybeLoadScript(lib, version) {\n",
              "      var key = `${lib.replace(\"-\", \"\")}_version`;\n",
              "      return (VEGA_DEBUG[key] == version) ?\n",
              "        Promise.resolve(paths[lib]) :\n",
              "        new Promise(function(resolve, reject) {\n",
              "          var s = document.createElement('script');\n",
              "          document.getElementsByTagName(\"head\")[0].appendChild(s);\n",
              "          s.async = true;\n",
              "          s.onload = () => {\n",
              "            VEGA_DEBUG[key] = version;\n",
              "            return resolve(paths[lib]);\n",
              "          };\n",
              "          s.onerror = () => reject(`Error loading script: ${paths[lib]}`);\n",
              "          s.src = paths[lib];\n",
              "        });\n",
              "    }\n",
              "\n",
              "    function showError(err) {\n",
              "      outputDiv.innerHTML = `<div class=\"error\" style=\"color:red;\">${err}</div>`;\n",
              "      throw err;\n",
              "    }\n",
              "\n",
              "    function displayChart(vegaEmbed) {\n",
              "      vegaEmbed(outputDiv, spec, embedOpt)\n",
              "        .catch(err => showError(`Javascript Error: ${err.message}<br>This usually means there's a typo in your chart specification. See the javascript console for the full traceback.`));\n",
              "    }\n",
              "\n",
              "    if(typeof define === \"function\" && define.amd) {\n",
              "      requirejs.config({paths});\n",
              "      let deps = [\"vega-embed\"];\n",
              "      require(deps, displayChart, err => showError(`Error loading script: ${err.message}`));\n",
              "    } else {\n",
              "      maybeLoadScript(\"vega\", \"5\")\n",
              "        .then(() => maybeLoadScript(\"vega-lite\", \"5.20.1\"))\n",
              "        .then(() => maybeLoadScript(\"vega-embed\", \"6\"))\n",
              "        .catch(showError)\n",
              "        .then(() => displayChart(vegaEmbed));\n",
              "    }\n",
              "  })({\"config\": {\"view\": {\"continuousWidth\": 300, \"continuousHeight\": 300}}, \"layer\": [{\"mark\": {\"type\": \"circle\", \"opacity\": 0.7, \"size\": 100}, \"encoding\": {\"color\": {\"field\": \"date\", \"scale\": {\"scheme\": \"viridis\"}, \"title\": \"Year\", \"type\": \"ordinal\"}, \"tooltip\": [{\"field\": \"date\", \"title\": \"Year\", \"type\": \"ordinal\"}, {\"field\": \"value_mobile\", \"title\": \"Mobile Data Subscriptions\", \"type\": \"quantitative\"}, {\"field\": \"value_money\", \"title\": \"Mobile Money Accounts\", \"type\": \"quantitative\"}], \"x\": {\"field\": \"value_mobile\", \"title\": \"Mobile Data Subscriptions (Millions)\", \"type\": \"quantitative\"}, \"y\": {\"field\": \"value_money\", \"title\": \"Mobile Money Accounts (% of Adults)\", \"type\": \"quantitative\"}}, \"name\": \"view_7\", \"title\": \"Correlation Between Mobile Data Usage and Mobile Money Accounts Over Time\", \"transform\": [{\"filter\": {\"param\": \"param_36\"}}]}, {\"mark\": {\"type\": \"line\", \"color\": \"red\", \"opacity\": 0.7}, \"encoding\": {\"color\": {\"field\": \"date\", \"scale\": {\"scheme\": \"viridis\"}, \"title\": \"Year\", \"type\": \"ordinal\"}, \"tooltip\": [{\"field\": \"date\", \"title\": \"Year\", \"type\": \"ordinal\"}, {\"field\": \"value_mobile\", \"title\": \"Mobile Data Subscriptions\", \"type\": \"quantitative\"}, {\"field\": \"value_money\", \"title\": \"Mobile Money Accounts\", \"type\": \"quantitative\"}], \"x\": {\"field\": \"value_mobile\", \"title\": \"Mobile Data Subscriptions (Millions)\", \"type\": \"quantitative\"}, \"y\": {\"field\": \"value_money\", \"title\": \"Mobile Money Accounts (% of Adults)\", \"type\": \"quantitative\"}}, \"title\": \"Correlation Between Mobile Data Usage and Mobile Money Accounts Over Time\", \"transform\": [{\"filter\": {\"param\": \"param_36\"}}, {\"on\": \"value_mobile\", \"regression\": \"value_money\", \"method\": \"linear\"}]}], \"data\": {\"name\": \"data-8aa71cc73c791b6f63a41d7cafa55bdd\"}, \"height\": 400, \"params\": [{\"name\": \"param_36\", \"select\": {\"type\": \"point\", \"fields\": [\"date\"]}, \"bind\": {\"input\": \"range\", \"max\": 2021, \"min\": 2011, \"name\": \"Select Year: \", \"step\": 1}, \"views\": [\"view_7\"]}], \"width\": 700, \"$schema\": \"https://vega.github.io/schema/vega-lite/v5.20.1.json\", \"datasets\": {\"data-8aa71cc73c791b6f63a41d7cafa55bdd\": [{\"date\": 2021, \"value_mobile\": 65100000.0, \"value_money\": 79.2}, {\"date\": 2017, \"value_mobile\": 42800000.0, \"value_money\": 81.57}, {\"date\": 2014, \"value_mobile\": 33600000.0, \"value_money\": 74.66}, {\"date\": 2011, \"value_mobile\": 28100000.0, \"value_money\": 42.34}]}}, {\"mode\": \"vega-lite\"});\n",
              "</script>"
            ],
            "text/plain": [
              "alt.LayerChart(...)"
            ]
          },
          "metadata": {},
          "execution_count": 56
        }
      ]
    },
    {
      "cell_type": "code",
      "source": [
        "import pandas as pd\n",
        "\n",
        "# Simulated data for Mobile Money Accounts by age group\n",
        "data = {\n",
        "    \"year\": [2011, 2014, 2017, 2021],\n",
        "    \"15-24\": [10, 20, 30, 40],\n",
        "    \"25-34\": [15, 35, 55, 70],\n",
        "    \"35-44\": [5, 15, 35, 50],\n",
        "    \"45+\": [2, 10, 20, 35]\n",
        "}\n",
        "\n",
        "# Convert to a DataFrame\n",
        "mobile_money_age = pd.DataFrame(data)\n",
        "mobile_money_age = mobile_money_age.melt(id_vars=\"year\", var_name=\"age_group\", value_name=\"value\")"
      ],
      "metadata": {
        "id": "qWH1BnZwU_5E"
      },
      "execution_count": 57,
      "outputs": []
    },
    {
      "cell_type": "code",
      "source": [
        "import plotly.express as px\n",
        "\n",
        "# Define a custom medium red palette\n",
        "custom_red_palette = [\"#E57373\", \"#EF5350\", \"#F44336\", \"#D32F2F\"]\n",
        "\n",
        "# Create an animated bar chart by age group with custom medium red shades\n",
        "fig = px.bar(\n",
        "    mobile_money_age,\n",
        "    x=\"age_group\",\n",
        "    y=\"value\",\n",
        "    color=\"age_group\",\n",
        "    animation_frame=\"year\",  # Enables the transitional sidebar slider\n",
        "    labels={\"age_group\": \"Age Group\", \"value\": \"Percentage of Mobile Money Account Ownership\"},\n",
        "    title=\"Adoption of Mobile Money Accounts by Age Group Over Time\",\n",
        "    color_discrete_sequence=custom_red_palette  # Apply custom medium red shades\n",
        ")\n",
        "\n",
        "# Update layout for better visualization\n",
        "fig.update_layout(\n",
        "    xaxis_title=\"Age Group\",\n",
        "    yaxis_title=\"Percentage of Ownership\",\n",
        "    template=\"plotly_white\",\n",
        "    showlegend=False,\n",
        "    sliders=[\n",
        "        dict(\n",
        "            active=0,\n",
        "            currentvalue={\"prefix\": \"Year: \"},\n",
        "            steps=[\n",
        "                dict(\n",
        "                    label=str(year),\n",
        "                    method=\"animate\",\n",
        "                    args=[[str(year)], {\"frame\": {\"duration\": 500, \"redraw\": True}}]\n",
        "                )\n",
        "                for year in mobile_money_age[\"year\"].unique()\n",
        "            ]\n",
        "        )\n",
        "    ]\n",
        ")\n",
        "\n",
        "# Show the figure\n",
        "fig.show()\n"
      ],
      "metadata": {
        "colab": {
          "base_uri": "https://localhost:8080/",
          "height": 542
        },
        "id": "Av9cVlnHVIR1",
        "outputId": "4106c7ba-d056-41d1-de3a-80cc488ee9a9"
      },
      "execution_count": 58,
      "outputs": [
        {
          "output_type": "display_data",
          "data": {
            "text/html": [
              "<html>\n",
              "<head><meta charset=\"utf-8\" /></head>\n",
              "<body>\n",
              "    <div>            <script src=\"https://cdnjs.cloudflare.com/ajax/libs/mathjax/2.7.5/MathJax.js?config=TeX-AMS-MML_SVG\"></script><script type=\"text/javascript\">if (window.MathJax && window.MathJax.Hub && window.MathJax.Hub.Config) {window.MathJax.Hub.Config({SVG: {font: \"STIX-Web\"}});}</script>                <script type=\"text/javascript\">window.PlotlyConfig = {MathJaxConfig: 'local'};</script>\n",
              "        <script charset=\"utf-8\" src=\"https://cdn.plot.ly/plotly-2.35.2.min.js\"></script>                <div id=\"86a9b6bc-09da-4aa4-9fde-d459e16ac4a5\" class=\"plotly-graph-div\" style=\"height:525px; width:100%;\"></div>            <script type=\"text/javascript\">                                    window.PLOTLYENV=window.PLOTLYENV || {};                                    if (document.getElementById(\"86a9b6bc-09da-4aa4-9fde-d459e16ac4a5\")) {                    Plotly.newPlot(                        \"86a9b6bc-09da-4aa4-9fde-d459e16ac4a5\",                        [{\"alignmentgroup\":\"True\",\"hovertemplate\":\"Age Group=%{x}\\u003cbr\\u003eyear=2011\\u003cbr\\u003ePercentage of Mobile Money Account Ownership=%{y}\\u003cextra\\u003e\\u003c\\u002fextra\\u003e\",\"legendgroup\":\"15-24\",\"marker\":{\"color\":\"#E57373\",\"pattern\":{\"shape\":\"\"}},\"name\":\"15-24\",\"offsetgroup\":\"15-24\",\"orientation\":\"v\",\"showlegend\":true,\"textposition\":\"auto\",\"x\":[\"15-24\"],\"xaxis\":\"x\",\"y\":[10],\"yaxis\":\"y\",\"type\":\"bar\"},{\"alignmentgroup\":\"True\",\"hovertemplate\":\"Age Group=%{x}\\u003cbr\\u003eyear=2011\\u003cbr\\u003ePercentage of Mobile Money Account Ownership=%{y}\\u003cextra\\u003e\\u003c\\u002fextra\\u003e\",\"legendgroup\":\"25-34\",\"marker\":{\"color\":\"#EF5350\",\"pattern\":{\"shape\":\"\"}},\"name\":\"25-34\",\"offsetgroup\":\"25-34\",\"orientation\":\"v\",\"showlegend\":true,\"textposition\":\"auto\",\"x\":[\"25-34\"],\"xaxis\":\"x\",\"y\":[15],\"yaxis\":\"y\",\"type\":\"bar\"},{\"alignmentgroup\":\"True\",\"hovertemplate\":\"Age Group=%{x}\\u003cbr\\u003eyear=2011\\u003cbr\\u003ePercentage of Mobile Money Account Ownership=%{y}\\u003cextra\\u003e\\u003c\\u002fextra\\u003e\",\"legendgroup\":\"35-44\",\"marker\":{\"color\":\"#F44336\",\"pattern\":{\"shape\":\"\"}},\"name\":\"35-44\",\"offsetgroup\":\"35-44\",\"orientation\":\"v\",\"showlegend\":true,\"textposition\":\"auto\",\"x\":[\"35-44\"],\"xaxis\":\"x\",\"y\":[5],\"yaxis\":\"y\",\"type\":\"bar\"},{\"alignmentgroup\":\"True\",\"hovertemplate\":\"Age Group=%{x}\\u003cbr\\u003eyear=2011\\u003cbr\\u003ePercentage of Mobile Money Account Ownership=%{y}\\u003cextra\\u003e\\u003c\\u002fextra\\u003e\",\"legendgroup\":\"45+\",\"marker\":{\"color\":\"#D32F2F\",\"pattern\":{\"shape\":\"\"}},\"name\":\"45+\",\"offsetgroup\":\"45+\",\"orientation\":\"v\",\"showlegend\":true,\"textposition\":\"auto\",\"x\":[\"45+\"],\"xaxis\":\"x\",\"y\":[2],\"yaxis\":\"y\",\"type\":\"bar\"}],                        {\"template\":{\"data\":{\"barpolar\":[{\"marker\":{\"line\":{\"color\":\"white\",\"width\":0.5},\"pattern\":{\"fillmode\":\"overlay\",\"size\":10,\"solidity\":0.2}},\"type\":\"barpolar\"}],\"bar\":[{\"error_x\":{\"color\":\"#2a3f5f\"},\"error_y\":{\"color\":\"#2a3f5f\"},\"marker\":{\"line\":{\"color\":\"white\",\"width\":0.5},\"pattern\":{\"fillmode\":\"overlay\",\"size\":10,\"solidity\":0.2}},\"type\":\"bar\"}],\"carpet\":[{\"aaxis\":{\"endlinecolor\":\"#2a3f5f\",\"gridcolor\":\"#C8D4E3\",\"linecolor\":\"#C8D4E3\",\"minorgridcolor\":\"#C8D4E3\",\"startlinecolor\":\"#2a3f5f\"},\"baxis\":{\"endlinecolor\":\"#2a3f5f\",\"gridcolor\":\"#C8D4E3\",\"linecolor\":\"#C8D4E3\",\"minorgridcolor\":\"#C8D4E3\",\"startlinecolor\":\"#2a3f5f\"},\"type\":\"carpet\"}],\"choropleth\":[{\"colorbar\":{\"outlinewidth\":0,\"ticks\":\"\"},\"type\":\"choropleth\"}],\"contourcarpet\":[{\"colorbar\":{\"outlinewidth\":0,\"ticks\":\"\"},\"type\":\"contourcarpet\"}],\"contour\":[{\"colorbar\":{\"outlinewidth\":0,\"ticks\":\"\"},\"colorscale\":[[0.0,\"#0d0887\"],[0.1111111111111111,\"#46039f\"],[0.2222222222222222,\"#7201a8\"],[0.3333333333333333,\"#9c179e\"],[0.4444444444444444,\"#bd3786\"],[0.5555555555555556,\"#d8576b\"],[0.6666666666666666,\"#ed7953\"],[0.7777777777777778,\"#fb9f3a\"],[0.8888888888888888,\"#fdca26\"],[1.0,\"#f0f921\"]],\"type\":\"contour\"}],\"heatmapgl\":[{\"colorbar\":{\"outlinewidth\":0,\"ticks\":\"\"},\"colorscale\":[[0.0,\"#0d0887\"],[0.1111111111111111,\"#46039f\"],[0.2222222222222222,\"#7201a8\"],[0.3333333333333333,\"#9c179e\"],[0.4444444444444444,\"#bd3786\"],[0.5555555555555556,\"#d8576b\"],[0.6666666666666666,\"#ed7953\"],[0.7777777777777778,\"#fb9f3a\"],[0.8888888888888888,\"#fdca26\"],[1.0,\"#f0f921\"]],\"type\":\"heatmapgl\"}],\"heatmap\":[{\"colorbar\":{\"outlinewidth\":0,\"ticks\":\"\"},\"colorscale\":[[0.0,\"#0d0887\"],[0.1111111111111111,\"#46039f\"],[0.2222222222222222,\"#7201a8\"],[0.3333333333333333,\"#9c179e\"],[0.4444444444444444,\"#bd3786\"],[0.5555555555555556,\"#d8576b\"],[0.6666666666666666,\"#ed7953\"],[0.7777777777777778,\"#fb9f3a\"],[0.8888888888888888,\"#fdca26\"],[1.0,\"#f0f921\"]],\"type\":\"heatmap\"}],\"histogram2dcontour\":[{\"colorbar\":{\"outlinewidth\":0,\"ticks\":\"\"},\"colorscale\":[[0.0,\"#0d0887\"],[0.1111111111111111,\"#46039f\"],[0.2222222222222222,\"#7201a8\"],[0.3333333333333333,\"#9c179e\"],[0.4444444444444444,\"#bd3786\"],[0.5555555555555556,\"#d8576b\"],[0.6666666666666666,\"#ed7953\"],[0.7777777777777778,\"#fb9f3a\"],[0.8888888888888888,\"#fdca26\"],[1.0,\"#f0f921\"]],\"type\":\"histogram2dcontour\"}],\"histogram2d\":[{\"colorbar\":{\"outlinewidth\":0,\"ticks\":\"\"},\"colorscale\":[[0.0,\"#0d0887\"],[0.1111111111111111,\"#46039f\"],[0.2222222222222222,\"#7201a8\"],[0.3333333333333333,\"#9c179e\"],[0.4444444444444444,\"#bd3786\"],[0.5555555555555556,\"#d8576b\"],[0.6666666666666666,\"#ed7953\"],[0.7777777777777778,\"#fb9f3a\"],[0.8888888888888888,\"#fdca26\"],[1.0,\"#f0f921\"]],\"type\":\"histogram2d\"}],\"histogram\":[{\"marker\":{\"pattern\":{\"fillmode\":\"overlay\",\"size\":10,\"solidity\":0.2}},\"type\":\"histogram\"}],\"mesh3d\":[{\"colorbar\":{\"outlinewidth\":0,\"ticks\":\"\"},\"type\":\"mesh3d\"}],\"parcoords\":[{\"line\":{\"colorbar\":{\"outlinewidth\":0,\"ticks\":\"\"}},\"type\":\"parcoords\"}],\"pie\":[{\"automargin\":true,\"type\":\"pie\"}],\"scatter3d\":[{\"line\":{\"colorbar\":{\"outlinewidth\":0,\"ticks\":\"\"}},\"marker\":{\"colorbar\":{\"outlinewidth\":0,\"ticks\":\"\"}},\"type\":\"scatter3d\"}],\"scattercarpet\":[{\"marker\":{\"colorbar\":{\"outlinewidth\":0,\"ticks\":\"\"}},\"type\":\"scattercarpet\"}],\"scattergeo\":[{\"marker\":{\"colorbar\":{\"outlinewidth\":0,\"ticks\":\"\"}},\"type\":\"scattergeo\"}],\"scattergl\":[{\"marker\":{\"colorbar\":{\"outlinewidth\":0,\"ticks\":\"\"}},\"type\":\"scattergl\"}],\"scattermapbox\":[{\"marker\":{\"colorbar\":{\"outlinewidth\":0,\"ticks\":\"\"}},\"type\":\"scattermapbox\"}],\"scatterpolargl\":[{\"marker\":{\"colorbar\":{\"outlinewidth\":0,\"ticks\":\"\"}},\"type\":\"scatterpolargl\"}],\"scatterpolar\":[{\"marker\":{\"colorbar\":{\"outlinewidth\":0,\"ticks\":\"\"}},\"type\":\"scatterpolar\"}],\"scatter\":[{\"fillpattern\":{\"fillmode\":\"overlay\",\"size\":10,\"solidity\":0.2},\"type\":\"scatter\"}],\"scatterternary\":[{\"marker\":{\"colorbar\":{\"outlinewidth\":0,\"ticks\":\"\"}},\"type\":\"scatterternary\"}],\"surface\":[{\"colorbar\":{\"outlinewidth\":0,\"ticks\":\"\"},\"colorscale\":[[0.0,\"#0d0887\"],[0.1111111111111111,\"#46039f\"],[0.2222222222222222,\"#7201a8\"],[0.3333333333333333,\"#9c179e\"],[0.4444444444444444,\"#bd3786\"],[0.5555555555555556,\"#d8576b\"],[0.6666666666666666,\"#ed7953\"],[0.7777777777777778,\"#fb9f3a\"],[0.8888888888888888,\"#fdca26\"],[1.0,\"#f0f921\"]],\"type\":\"surface\"}],\"table\":[{\"cells\":{\"fill\":{\"color\":\"#EBF0F8\"},\"line\":{\"color\":\"white\"}},\"header\":{\"fill\":{\"color\":\"#C8D4E3\"},\"line\":{\"color\":\"white\"}},\"type\":\"table\"}]},\"layout\":{\"annotationdefaults\":{\"arrowcolor\":\"#2a3f5f\",\"arrowhead\":0,\"arrowwidth\":1},\"autotypenumbers\":\"strict\",\"coloraxis\":{\"colorbar\":{\"outlinewidth\":0,\"ticks\":\"\"}},\"colorscale\":{\"diverging\":[[0,\"#8e0152\"],[0.1,\"#c51b7d\"],[0.2,\"#de77ae\"],[0.3,\"#f1b6da\"],[0.4,\"#fde0ef\"],[0.5,\"#f7f7f7\"],[0.6,\"#e6f5d0\"],[0.7,\"#b8e186\"],[0.8,\"#7fbc41\"],[0.9,\"#4d9221\"],[1,\"#276419\"]],\"sequential\":[[0.0,\"#0d0887\"],[0.1111111111111111,\"#46039f\"],[0.2222222222222222,\"#7201a8\"],[0.3333333333333333,\"#9c179e\"],[0.4444444444444444,\"#bd3786\"],[0.5555555555555556,\"#d8576b\"],[0.6666666666666666,\"#ed7953\"],[0.7777777777777778,\"#fb9f3a\"],[0.8888888888888888,\"#fdca26\"],[1.0,\"#f0f921\"]],\"sequentialminus\":[[0.0,\"#0d0887\"],[0.1111111111111111,\"#46039f\"],[0.2222222222222222,\"#7201a8\"],[0.3333333333333333,\"#9c179e\"],[0.4444444444444444,\"#bd3786\"],[0.5555555555555556,\"#d8576b\"],[0.6666666666666666,\"#ed7953\"],[0.7777777777777778,\"#fb9f3a\"],[0.8888888888888888,\"#fdca26\"],[1.0,\"#f0f921\"]]},\"colorway\":[\"#636efa\",\"#EF553B\",\"#00cc96\",\"#ab63fa\",\"#FFA15A\",\"#19d3f3\",\"#FF6692\",\"#B6E880\",\"#FF97FF\",\"#FECB52\"],\"font\":{\"color\":\"#2a3f5f\"},\"geo\":{\"bgcolor\":\"white\",\"lakecolor\":\"white\",\"landcolor\":\"white\",\"showlakes\":true,\"showland\":true,\"subunitcolor\":\"#C8D4E3\"},\"hoverlabel\":{\"align\":\"left\"},\"hovermode\":\"closest\",\"mapbox\":{\"style\":\"light\"},\"paper_bgcolor\":\"white\",\"plot_bgcolor\":\"white\",\"polar\":{\"angularaxis\":{\"gridcolor\":\"#EBF0F8\",\"linecolor\":\"#EBF0F8\",\"ticks\":\"\"},\"bgcolor\":\"white\",\"radialaxis\":{\"gridcolor\":\"#EBF0F8\",\"linecolor\":\"#EBF0F8\",\"ticks\":\"\"}},\"scene\":{\"xaxis\":{\"backgroundcolor\":\"white\",\"gridcolor\":\"#DFE8F3\",\"gridwidth\":2,\"linecolor\":\"#EBF0F8\",\"showbackground\":true,\"ticks\":\"\",\"zerolinecolor\":\"#EBF0F8\"},\"yaxis\":{\"backgroundcolor\":\"white\",\"gridcolor\":\"#DFE8F3\",\"gridwidth\":2,\"linecolor\":\"#EBF0F8\",\"showbackground\":true,\"ticks\":\"\",\"zerolinecolor\":\"#EBF0F8\"},\"zaxis\":{\"backgroundcolor\":\"white\",\"gridcolor\":\"#DFE8F3\",\"gridwidth\":2,\"linecolor\":\"#EBF0F8\",\"showbackground\":true,\"ticks\":\"\",\"zerolinecolor\":\"#EBF0F8\"}},\"shapedefaults\":{\"line\":{\"color\":\"#2a3f5f\"}},\"ternary\":{\"aaxis\":{\"gridcolor\":\"#DFE8F3\",\"linecolor\":\"#A2B1C6\",\"ticks\":\"\"},\"baxis\":{\"gridcolor\":\"#DFE8F3\",\"linecolor\":\"#A2B1C6\",\"ticks\":\"\"},\"bgcolor\":\"white\",\"caxis\":{\"gridcolor\":\"#DFE8F3\",\"linecolor\":\"#A2B1C6\",\"ticks\":\"\"}},\"title\":{\"x\":0.05},\"xaxis\":{\"automargin\":true,\"gridcolor\":\"#EBF0F8\",\"linecolor\":\"#EBF0F8\",\"ticks\":\"\",\"title\":{\"standoff\":15},\"zerolinecolor\":\"#EBF0F8\",\"zerolinewidth\":2},\"yaxis\":{\"automargin\":true,\"gridcolor\":\"#EBF0F8\",\"linecolor\":\"#EBF0F8\",\"ticks\":\"\",\"title\":{\"standoff\":15},\"zerolinecolor\":\"#EBF0F8\",\"zerolinewidth\":2}}},\"xaxis\":{\"anchor\":\"y\",\"domain\":[0.0,1.0],\"title\":{\"text\":\"Age Group\"},\"categoryorder\":\"array\",\"categoryarray\":[\"15-24\",\"25-34\",\"35-44\",\"45+\"]},\"yaxis\":{\"anchor\":\"x\",\"domain\":[0.0,1.0],\"title\":{\"text\":\"Percentage of Ownership\"}},\"legend\":{\"title\":{\"text\":\"Age Group\"},\"tracegroupgap\":0},\"title\":{\"text\":\"Adoption of Mobile Money Accounts by Age Group Over Time\"},\"barmode\":\"relative\",\"updatemenus\":[{\"buttons\":[{\"args\":[null,{\"frame\":{\"duration\":500,\"redraw\":true},\"mode\":\"immediate\",\"fromcurrent\":true,\"transition\":{\"duration\":500,\"easing\":\"linear\"}}],\"label\":\"&#9654;\",\"method\":\"animate\"},{\"args\":[[null],{\"frame\":{\"duration\":0,\"redraw\":true},\"mode\":\"immediate\",\"fromcurrent\":true,\"transition\":{\"duration\":0,\"easing\":\"linear\"}}],\"label\":\"&#9724;\",\"method\":\"animate\"}],\"direction\":\"left\",\"pad\":{\"r\":10,\"t\":70},\"showactive\":false,\"type\":\"buttons\",\"x\":0.1,\"xanchor\":\"right\",\"y\":0,\"yanchor\":\"top\"}],\"sliders\":[{\"active\":0,\"currentvalue\":{\"prefix\":\"Year: \"},\"len\":0.9,\"pad\":{\"b\":10,\"t\":60},\"steps\":[{\"args\":[[\"2011\"],{\"frame\":{\"duration\":500,\"redraw\":true}}],\"label\":\"2011\",\"method\":\"animate\"},{\"args\":[[\"2014\"],{\"frame\":{\"duration\":500,\"redraw\":true}}],\"label\":\"2014\",\"method\":\"animate\"},{\"args\":[[\"2017\"],{\"frame\":{\"duration\":500,\"redraw\":true}}],\"label\":\"2017\",\"method\":\"animate\"},{\"args\":[[\"2021\"],{\"frame\":{\"duration\":500,\"redraw\":true}}],\"label\":\"2021\",\"method\":\"animate\"}],\"x\":0.1,\"xanchor\":\"left\",\"y\":0,\"yanchor\":\"top\"}],\"showlegend\":false},                        {\"responsive\": true}                    ).then(function(){\n",
              "                            Plotly.addFrames('86a9b6bc-09da-4aa4-9fde-d459e16ac4a5', [{\"data\":[{\"alignmentgroup\":\"True\",\"hovertemplate\":\"Age Group=%{x}\\u003cbr\\u003eyear=2011\\u003cbr\\u003ePercentage of Mobile Money Account Ownership=%{y}\\u003cextra\\u003e\\u003c\\u002fextra\\u003e\",\"legendgroup\":\"15-24\",\"marker\":{\"color\":\"#E57373\",\"pattern\":{\"shape\":\"\"}},\"name\":\"15-24\",\"offsetgroup\":\"15-24\",\"orientation\":\"v\",\"showlegend\":true,\"textposition\":\"auto\",\"x\":[\"15-24\"],\"xaxis\":\"x\",\"y\":[10],\"yaxis\":\"y\",\"type\":\"bar\"},{\"alignmentgroup\":\"True\",\"hovertemplate\":\"Age Group=%{x}\\u003cbr\\u003eyear=2011\\u003cbr\\u003ePercentage of Mobile Money Account Ownership=%{y}\\u003cextra\\u003e\\u003c\\u002fextra\\u003e\",\"legendgroup\":\"25-34\",\"marker\":{\"color\":\"#EF5350\",\"pattern\":{\"shape\":\"\"}},\"name\":\"25-34\",\"offsetgroup\":\"25-34\",\"orientation\":\"v\",\"showlegend\":true,\"textposition\":\"auto\",\"x\":[\"25-34\"],\"xaxis\":\"x\",\"y\":[15],\"yaxis\":\"y\",\"type\":\"bar\"},{\"alignmentgroup\":\"True\",\"hovertemplate\":\"Age Group=%{x}\\u003cbr\\u003eyear=2011\\u003cbr\\u003ePercentage of Mobile Money Account Ownership=%{y}\\u003cextra\\u003e\\u003c\\u002fextra\\u003e\",\"legendgroup\":\"35-44\",\"marker\":{\"color\":\"#F44336\",\"pattern\":{\"shape\":\"\"}},\"name\":\"35-44\",\"offsetgroup\":\"35-44\",\"orientation\":\"v\",\"showlegend\":true,\"textposition\":\"auto\",\"x\":[\"35-44\"],\"xaxis\":\"x\",\"y\":[5],\"yaxis\":\"y\",\"type\":\"bar\"},{\"alignmentgroup\":\"True\",\"hovertemplate\":\"Age Group=%{x}\\u003cbr\\u003eyear=2011\\u003cbr\\u003ePercentage of Mobile Money Account Ownership=%{y}\\u003cextra\\u003e\\u003c\\u002fextra\\u003e\",\"legendgroup\":\"45+\",\"marker\":{\"color\":\"#D32F2F\",\"pattern\":{\"shape\":\"\"}},\"name\":\"45+\",\"offsetgroup\":\"45+\",\"orientation\":\"v\",\"showlegend\":true,\"textposition\":\"auto\",\"x\":[\"45+\"],\"xaxis\":\"x\",\"y\":[2],\"yaxis\":\"y\",\"type\":\"bar\"}],\"name\":\"2011\"},{\"data\":[{\"alignmentgroup\":\"True\",\"hovertemplate\":\"Age Group=%{x}\\u003cbr\\u003eyear=2014\\u003cbr\\u003ePercentage of Mobile Money Account Ownership=%{y}\\u003cextra\\u003e\\u003c\\u002fextra\\u003e\",\"legendgroup\":\"15-24\",\"marker\":{\"color\":\"#E57373\",\"pattern\":{\"shape\":\"\"}},\"name\":\"15-24\",\"offsetgroup\":\"15-24\",\"orientation\":\"v\",\"showlegend\":true,\"textposition\":\"auto\",\"x\":[\"15-24\"],\"xaxis\":\"x\",\"y\":[20],\"yaxis\":\"y\",\"type\":\"bar\"},{\"alignmentgroup\":\"True\",\"hovertemplate\":\"Age Group=%{x}\\u003cbr\\u003eyear=2014\\u003cbr\\u003ePercentage of Mobile Money Account Ownership=%{y}\\u003cextra\\u003e\\u003c\\u002fextra\\u003e\",\"legendgroup\":\"25-34\",\"marker\":{\"color\":\"#EF5350\",\"pattern\":{\"shape\":\"\"}},\"name\":\"25-34\",\"offsetgroup\":\"25-34\",\"orientation\":\"v\",\"showlegend\":true,\"textposition\":\"auto\",\"x\":[\"25-34\"],\"xaxis\":\"x\",\"y\":[35],\"yaxis\":\"y\",\"type\":\"bar\"},{\"alignmentgroup\":\"True\",\"hovertemplate\":\"Age Group=%{x}\\u003cbr\\u003eyear=2014\\u003cbr\\u003ePercentage of Mobile Money Account Ownership=%{y}\\u003cextra\\u003e\\u003c\\u002fextra\\u003e\",\"legendgroup\":\"35-44\",\"marker\":{\"color\":\"#F44336\",\"pattern\":{\"shape\":\"\"}},\"name\":\"35-44\",\"offsetgroup\":\"35-44\",\"orientation\":\"v\",\"showlegend\":true,\"textposition\":\"auto\",\"x\":[\"35-44\"],\"xaxis\":\"x\",\"y\":[15],\"yaxis\":\"y\",\"type\":\"bar\"},{\"alignmentgroup\":\"True\",\"hovertemplate\":\"Age Group=%{x}\\u003cbr\\u003eyear=2014\\u003cbr\\u003ePercentage of Mobile Money Account Ownership=%{y}\\u003cextra\\u003e\\u003c\\u002fextra\\u003e\",\"legendgroup\":\"45+\",\"marker\":{\"color\":\"#D32F2F\",\"pattern\":{\"shape\":\"\"}},\"name\":\"45+\",\"offsetgroup\":\"45+\",\"orientation\":\"v\",\"showlegend\":true,\"textposition\":\"auto\",\"x\":[\"45+\"],\"xaxis\":\"x\",\"y\":[10],\"yaxis\":\"y\",\"type\":\"bar\"}],\"name\":\"2014\"},{\"data\":[{\"alignmentgroup\":\"True\",\"hovertemplate\":\"Age Group=%{x}\\u003cbr\\u003eyear=2017\\u003cbr\\u003ePercentage of Mobile Money Account Ownership=%{y}\\u003cextra\\u003e\\u003c\\u002fextra\\u003e\",\"legendgroup\":\"15-24\",\"marker\":{\"color\":\"#E57373\",\"pattern\":{\"shape\":\"\"}},\"name\":\"15-24\",\"offsetgroup\":\"15-24\",\"orientation\":\"v\",\"showlegend\":true,\"textposition\":\"auto\",\"x\":[\"15-24\"],\"xaxis\":\"x\",\"y\":[30],\"yaxis\":\"y\",\"type\":\"bar\"},{\"alignmentgroup\":\"True\",\"hovertemplate\":\"Age Group=%{x}\\u003cbr\\u003eyear=2017\\u003cbr\\u003ePercentage of Mobile Money Account Ownership=%{y}\\u003cextra\\u003e\\u003c\\u002fextra\\u003e\",\"legendgroup\":\"25-34\",\"marker\":{\"color\":\"#EF5350\",\"pattern\":{\"shape\":\"\"}},\"name\":\"25-34\",\"offsetgroup\":\"25-34\",\"orientation\":\"v\",\"showlegend\":true,\"textposition\":\"auto\",\"x\":[\"25-34\"],\"xaxis\":\"x\",\"y\":[55],\"yaxis\":\"y\",\"type\":\"bar\"},{\"alignmentgroup\":\"True\",\"hovertemplate\":\"Age Group=%{x}\\u003cbr\\u003eyear=2017\\u003cbr\\u003ePercentage of Mobile Money Account Ownership=%{y}\\u003cextra\\u003e\\u003c\\u002fextra\\u003e\",\"legendgroup\":\"35-44\",\"marker\":{\"color\":\"#F44336\",\"pattern\":{\"shape\":\"\"}},\"name\":\"35-44\",\"offsetgroup\":\"35-44\",\"orientation\":\"v\",\"showlegend\":true,\"textposition\":\"auto\",\"x\":[\"35-44\"],\"xaxis\":\"x\",\"y\":[35],\"yaxis\":\"y\",\"type\":\"bar\"},{\"alignmentgroup\":\"True\",\"hovertemplate\":\"Age Group=%{x}\\u003cbr\\u003eyear=2017\\u003cbr\\u003ePercentage of Mobile Money Account Ownership=%{y}\\u003cextra\\u003e\\u003c\\u002fextra\\u003e\",\"legendgroup\":\"45+\",\"marker\":{\"color\":\"#D32F2F\",\"pattern\":{\"shape\":\"\"}},\"name\":\"45+\",\"offsetgroup\":\"45+\",\"orientation\":\"v\",\"showlegend\":true,\"textposition\":\"auto\",\"x\":[\"45+\"],\"xaxis\":\"x\",\"y\":[20],\"yaxis\":\"y\",\"type\":\"bar\"}],\"name\":\"2017\"},{\"data\":[{\"alignmentgroup\":\"True\",\"hovertemplate\":\"Age Group=%{x}\\u003cbr\\u003eyear=2021\\u003cbr\\u003ePercentage of Mobile Money Account Ownership=%{y}\\u003cextra\\u003e\\u003c\\u002fextra\\u003e\",\"legendgroup\":\"15-24\",\"marker\":{\"color\":\"#E57373\",\"pattern\":{\"shape\":\"\"}},\"name\":\"15-24\",\"offsetgroup\":\"15-24\",\"orientation\":\"v\",\"showlegend\":true,\"textposition\":\"auto\",\"x\":[\"15-24\"],\"xaxis\":\"x\",\"y\":[40],\"yaxis\":\"y\",\"type\":\"bar\"},{\"alignmentgroup\":\"True\",\"hovertemplate\":\"Age Group=%{x}\\u003cbr\\u003eyear=2021\\u003cbr\\u003ePercentage of Mobile Money Account Ownership=%{y}\\u003cextra\\u003e\\u003c\\u002fextra\\u003e\",\"legendgroup\":\"25-34\",\"marker\":{\"color\":\"#EF5350\",\"pattern\":{\"shape\":\"\"}},\"name\":\"25-34\",\"offsetgroup\":\"25-34\",\"orientation\":\"v\",\"showlegend\":true,\"textposition\":\"auto\",\"x\":[\"25-34\"],\"xaxis\":\"x\",\"y\":[70],\"yaxis\":\"y\",\"type\":\"bar\"},{\"alignmentgroup\":\"True\",\"hovertemplate\":\"Age Group=%{x}\\u003cbr\\u003eyear=2021\\u003cbr\\u003ePercentage of Mobile Money Account Ownership=%{y}\\u003cextra\\u003e\\u003c\\u002fextra\\u003e\",\"legendgroup\":\"35-44\",\"marker\":{\"color\":\"#F44336\",\"pattern\":{\"shape\":\"\"}},\"name\":\"35-44\",\"offsetgroup\":\"35-44\",\"orientation\":\"v\",\"showlegend\":true,\"textposition\":\"auto\",\"x\":[\"35-44\"],\"xaxis\":\"x\",\"y\":[50],\"yaxis\":\"y\",\"type\":\"bar\"},{\"alignmentgroup\":\"True\",\"hovertemplate\":\"Age Group=%{x}\\u003cbr\\u003eyear=2021\\u003cbr\\u003ePercentage of Mobile Money Account Ownership=%{y}\\u003cextra\\u003e\\u003c\\u002fextra\\u003e\",\"legendgroup\":\"45+\",\"marker\":{\"color\":\"#D32F2F\",\"pattern\":{\"shape\":\"\"}},\"name\":\"45+\",\"offsetgroup\":\"45+\",\"orientation\":\"v\",\"showlegend\":true,\"textposition\":\"auto\",\"x\":[\"45+\"],\"xaxis\":\"x\",\"y\":[35],\"yaxis\":\"y\",\"type\":\"bar\"}],\"name\":\"2021\"}]);\n",
              "                        }).then(function(){\n",
              "                            \n",
              "var gd = document.getElementById('86a9b6bc-09da-4aa4-9fde-d459e16ac4a5');\n",
              "var x = new MutationObserver(function (mutations, observer) {{\n",
              "        var display = window.getComputedStyle(gd).display;\n",
              "        if (!display || display === 'none') {{\n",
              "            console.log([gd, 'removed!']);\n",
              "            Plotly.purge(gd);\n",
              "            observer.disconnect();\n",
              "        }}\n",
              "}});\n",
              "\n",
              "// Listen for the removal of the full notebook cells\n",
              "var notebookContainer = gd.closest('#notebook-container');\n",
              "if (notebookContainer) {{\n",
              "    x.observe(notebookContainer, {childList: true});\n",
              "}}\n",
              "\n",
              "// Listen for the clearing of the current output cell\n",
              "var outputEl = gd.closest('.output');\n",
              "if (outputEl) {{\n",
              "    x.observe(outputEl, {childList: true});\n",
              "}}\n",
              "\n",
              "                        })                };                            </script>        </div>\n",
              "</body>\n",
              "</html>"
            ]
          },
          "metadata": {}
        }
      ]
    },
    {
      "cell_type": "markdown",
      "source": [
        "Insight: The chart shows how Mobile Money adoption differs across age groups over time, with younger groups (e.g., 15-24, 25-34) adopting faster than older groups. Why It Matters: Highlights the digital inclusivity of younger populations, emphasizing their role in driving technological financial solutions."
      ],
      "metadata": {
        "id": "yP2dMAgFVf2k"
      }
    },
    {
      "cell_type": "code",
      "source": [
        "import pandas as pd\n",
        "\n",
        "# Simulated data for Mobile Money Accounts by region\n",
        "data = {\n",
        "    \"year\": [2011, 2014, 2017, 2021],\n",
        "    \"Nairobi\": [20, 35, 55, 75],\n",
        "    \"Central\": [10, 25, 45, 65],\n",
        "    \"Coast\": [5, 20, 40, 60],\n",
        "    \"Western\": [8, 18, 30, 50]\n",
        "}\n",
        "\n",
        "# Convert to a DataFrame\n",
        "mobile_money_region = pd.DataFrame(data)\n",
        "mobile_money_region = mobile_money_region.melt(id_vars=\"year\", var_name=\"region\", value_name=\"value\")"
      ],
      "metadata": {
        "id": "SoOzw5oGVRIy"
      },
      "execution_count": 59,
      "outputs": []
    },
    {
      "cell_type": "code",
      "source": [
        "import plotly.express as px\n",
        "\n",
        "# Define a custom medium blue palette\n",
        "custom_blue_palette = [\"#4A90E2\", \"#5DADE2\", \"#76C1E4\", \"#87D3E4\"]\n",
        "\n",
        "# Create an animated bar chart by region\n",
        "fig = px.bar(\n",
        "    mobile_money_region,\n",
        "    x=\"region\",\n",
        "    y=\"value\",\n",
        "    color=\"region\",\n",
        "    animation_frame=\"year\",  # Enables the sidebar slider\n",
        "    labels={\"region\": \"Region\", \"value\": \"Percentage of Mobile Money Account Ownership\"},\n",
        "    title=\"Adoption of Mobile Money Accounts by Region Over Time\",\n",
        "    color_discrete_sequence=custom_blue_palette  # Apply custom blue shades\n",
        ")\n",
        "\n",
        "# Update layout for better visualization\n",
        "fig.update_layout(\n",
        "    xaxis_title=\"Region\",\n",
        "    yaxis_title=\"Percentage of Ownership\",\n",
        "    template=\"plotly_white\",\n",
        "    showlegend=False,\n",
        "    sliders=[\n",
        "        dict(\n",
        "            active=0,\n",
        "            currentvalue={\"prefix\": \"Year: \"},\n",
        "            steps=[\n",
        "                dict(\n",
        "                    label=str(year),\n",
        "                    method=\"animate\",\n",
        "                    args=[[str(year)], {\"frame\": {\"duration\": 500, \"redraw\": True}}]\n",
        "                )\n",
        "                for year in mobile_money_region[\"year\"].unique()\n",
        "            ]\n",
        "        )\n",
        "    ]\n",
        ")\n",
        "\n",
        "# Show the figure\n",
        "fig.show()\n"
      ],
      "metadata": {
        "colab": {
          "base_uri": "https://localhost:8080/",
          "height": 542
        },
        "id": "qcc2TypRVV1M",
        "outputId": "57b2f5a9-b238-48b2-f744-fc3cb51208ee"
      },
      "execution_count": 60,
      "outputs": [
        {
          "output_type": "display_data",
          "data": {
            "text/html": [
              "<html>\n",
              "<head><meta charset=\"utf-8\" /></head>\n",
              "<body>\n",
              "    <div>            <script src=\"https://cdnjs.cloudflare.com/ajax/libs/mathjax/2.7.5/MathJax.js?config=TeX-AMS-MML_SVG\"></script><script type=\"text/javascript\">if (window.MathJax && window.MathJax.Hub && window.MathJax.Hub.Config) {window.MathJax.Hub.Config({SVG: {font: \"STIX-Web\"}});}</script>                <script type=\"text/javascript\">window.PlotlyConfig = {MathJaxConfig: 'local'};</script>\n",
              "        <script charset=\"utf-8\" src=\"https://cdn.plot.ly/plotly-2.35.2.min.js\"></script>                <div id=\"11e284f3-bb3c-4972-a9c9-30815ed522ae\" class=\"plotly-graph-div\" style=\"height:525px; width:100%;\"></div>            <script type=\"text/javascript\">                                    window.PLOTLYENV=window.PLOTLYENV || {};                                    if (document.getElementById(\"11e284f3-bb3c-4972-a9c9-30815ed522ae\")) {                    Plotly.newPlot(                        \"11e284f3-bb3c-4972-a9c9-30815ed522ae\",                        [{\"alignmentgroup\":\"True\",\"hovertemplate\":\"Region=%{x}\\u003cbr\\u003eyear=2011\\u003cbr\\u003ePercentage of Mobile Money Account Ownership=%{y}\\u003cextra\\u003e\\u003c\\u002fextra\\u003e\",\"legendgroup\":\"Nairobi\",\"marker\":{\"color\":\"#4A90E2\",\"pattern\":{\"shape\":\"\"}},\"name\":\"Nairobi\",\"offsetgroup\":\"Nairobi\",\"orientation\":\"v\",\"showlegend\":true,\"textposition\":\"auto\",\"x\":[\"Nairobi\"],\"xaxis\":\"x\",\"y\":[20],\"yaxis\":\"y\",\"type\":\"bar\"},{\"alignmentgroup\":\"True\",\"hovertemplate\":\"Region=%{x}\\u003cbr\\u003eyear=2011\\u003cbr\\u003ePercentage of Mobile Money Account Ownership=%{y}\\u003cextra\\u003e\\u003c\\u002fextra\\u003e\",\"legendgroup\":\"Central\",\"marker\":{\"color\":\"#5DADE2\",\"pattern\":{\"shape\":\"\"}},\"name\":\"Central\",\"offsetgroup\":\"Central\",\"orientation\":\"v\",\"showlegend\":true,\"textposition\":\"auto\",\"x\":[\"Central\"],\"xaxis\":\"x\",\"y\":[10],\"yaxis\":\"y\",\"type\":\"bar\"},{\"alignmentgroup\":\"True\",\"hovertemplate\":\"Region=%{x}\\u003cbr\\u003eyear=2011\\u003cbr\\u003ePercentage of Mobile Money Account Ownership=%{y}\\u003cextra\\u003e\\u003c\\u002fextra\\u003e\",\"legendgroup\":\"Coast\",\"marker\":{\"color\":\"#76C1E4\",\"pattern\":{\"shape\":\"\"}},\"name\":\"Coast\",\"offsetgroup\":\"Coast\",\"orientation\":\"v\",\"showlegend\":true,\"textposition\":\"auto\",\"x\":[\"Coast\"],\"xaxis\":\"x\",\"y\":[5],\"yaxis\":\"y\",\"type\":\"bar\"},{\"alignmentgroup\":\"True\",\"hovertemplate\":\"Region=%{x}\\u003cbr\\u003eyear=2011\\u003cbr\\u003ePercentage of Mobile Money Account Ownership=%{y}\\u003cextra\\u003e\\u003c\\u002fextra\\u003e\",\"legendgroup\":\"Western\",\"marker\":{\"color\":\"#87D3E4\",\"pattern\":{\"shape\":\"\"}},\"name\":\"Western\",\"offsetgroup\":\"Western\",\"orientation\":\"v\",\"showlegend\":true,\"textposition\":\"auto\",\"x\":[\"Western\"],\"xaxis\":\"x\",\"y\":[8],\"yaxis\":\"y\",\"type\":\"bar\"}],                        {\"template\":{\"data\":{\"barpolar\":[{\"marker\":{\"line\":{\"color\":\"white\",\"width\":0.5},\"pattern\":{\"fillmode\":\"overlay\",\"size\":10,\"solidity\":0.2}},\"type\":\"barpolar\"}],\"bar\":[{\"error_x\":{\"color\":\"#2a3f5f\"},\"error_y\":{\"color\":\"#2a3f5f\"},\"marker\":{\"line\":{\"color\":\"white\",\"width\":0.5},\"pattern\":{\"fillmode\":\"overlay\",\"size\":10,\"solidity\":0.2}},\"type\":\"bar\"}],\"carpet\":[{\"aaxis\":{\"endlinecolor\":\"#2a3f5f\",\"gridcolor\":\"#C8D4E3\",\"linecolor\":\"#C8D4E3\",\"minorgridcolor\":\"#C8D4E3\",\"startlinecolor\":\"#2a3f5f\"},\"baxis\":{\"endlinecolor\":\"#2a3f5f\",\"gridcolor\":\"#C8D4E3\",\"linecolor\":\"#C8D4E3\",\"minorgridcolor\":\"#C8D4E3\",\"startlinecolor\":\"#2a3f5f\"},\"type\":\"carpet\"}],\"choropleth\":[{\"colorbar\":{\"outlinewidth\":0,\"ticks\":\"\"},\"type\":\"choropleth\"}],\"contourcarpet\":[{\"colorbar\":{\"outlinewidth\":0,\"ticks\":\"\"},\"type\":\"contourcarpet\"}],\"contour\":[{\"colorbar\":{\"outlinewidth\":0,\"ticks\":\"\"},\"colorscale\":[[0.0,\"#0d0887\"],[0.1111111111111111,\"#46039f\"],[0.2222222222222222,\"#7201a8\"],[0.3333333333333333,\"#9c179e\"],[0.4444444444444444,\"#bd3786\"],[0.5555555555555556,\"#d8576b\"],[0.6666666666666666,\"#ed7953\"],[0.7777777777777778,\"#fb9f3a\"],[0.8888888888888888,\"#fdca26\"],[1.0,\"#f0f921\"]],\"type\":\"contour\"}],\"heatmapgl\":[{\"colorbar\":{\"outlinewidth\":0,\"ticks\":\"\"},\"colorscale\":[[0.0,\"#0d0887\"],[0.1111111111111111,\"#46039f\"],[0.2222222222222222,\"#7201a8\"],[0.3333333333333333,\"#9c179e\"],[0.4444444444444444,\"#bd3786\"],[0.5555555555555556,\"#d8576b\"],[0.6666666666666666,\"#ed7953\"],[0.7777777777777778,\"#fb9f3a\"],[0.8888888888888888,\"#fdca26\"],[1.0,\"#f0f921\"]],\"type\":\"heatmapgl\"}],\"heatmap\":[{\"colorbar\":{\"outlinewidth\":0,\"ticks\":\"\"},\"colorscale\":[[0.0,\"#0d0887\"],[0.1111111111111111,\"#46039f\"],[0.2222222222222222,\"#7201a8\"],[0.3333333333333333,\"#9c179e\"],[0.4444444444444444,\"#bd3786\"],[0.5555555555555556,\"#d8576b\"],[0.6666666666666666,\"#ed7953\"],[0.7777777777777778,\"#fb9f3a\"],[0.8888888888888888,\"#fdca26\"],[1.0,\"#f0f921\"]],\"type\":\"heatmap\"}],\"histogram2dcontour\":[{\"colorbar\":{\"outlinewidth\":0,\"ticks\":\"\"},\"colorscale\":[[0.0,\"#0d0887\"],[0.1111111111111111,\"#46039f\"],[0.2222222222222222,\"#7201a8\"],[0.3333333333333333,\"#9c179e\"],[0.4444444444444444,\"#bd3786\"],[0.5555555555555556,\"#d8576b\"],[0.6666666666666666,\"#ed7953\"],[0.7777777777777778,\"#fb9f3a\"],[0.8888888888888888,\"#fdca26\"],[1.0,\"#f0f921\"]],\"type\":\"histogram2dcontour\"}],\"histogram2d\":[{\"colorbar\":{\"outlinewidth\":0,\"ticks\":\"\"},\"colorscale\":[[0.0,\"#0d0887\"],[0.1111111111111111,\"#46039f\"],[0.2222222222222222,\"#7201a8\"],[0.3333333333333333,\"#9c179e\"],[0.4444444444444444,\"#bd3786\"],[0.5555555555555556,\"#d8576b\"],[0.6666666666666666,\"#ed7953\"],[0.7777777777777778,\"#fb9f3a\"],[0.8888888888888888,\"#fdca26\"],[1.0,\"#f0f921\"]],\"type\":\"histogram2d\"}],\"histogram\":[{\"marker\":{\"pattern\":{\"fillmode\":\"overlay\",\"size\":10,\"solidity\":0.2}},\"type\":\"histogram\"}],\"mesh3d\":[{\"colorbar\":{\"outlinewidth\":0,\"ticks\":\"\"},\"type\":\"mesh3d\"}],\"parcoords\":[{\"line\":{\"colorbar\":{\"outlinewidth\":0,\"ticks\":\"\"}},\"type\":\"parcoords\"}],\"pie\":[{\"automargin\":true,\"type\":\"pie\"}],\"scatter3d\":[{\"line\":{\"colorbar\":{\"outlinewidth\":0,\"ticks\":\"\"}},\"marker\":{\"colorbar\":{\"outlinewidth\":0,\"ticks\":\"\"}},\"type\":\"scatter3d\"}],\"scattercarpet\":[{\"marker\":{\"colorbar\":{\"outlinewidth\":0,\"ticks\":\"\"}},\"type\":\"scattercarpet\"}],\"scattergeo\":[{\"marker\":{\"colorbar\":{\"outlinewidth\":0,\"ticks\":\"\"}},\"type\":\"scattergeo\"}],\"scattergl\":[{\"marker\":{\"colorbar\":{\"outlinewidth\":0,\"ticks\":\"\"}},\"type\":\"scattergl\"}],\"scattermapbox\":[{\"marker\":{\"colorbar\":{\"outlinewidth\":0,\"ticks\":\"\"}},\"type\":\"scattermapbox\"}],\"scatterpolargl\":[{\"marker\":{\"colorbar\":{\"outlinewidth\":0,\"ticks\":\"\"}},\"type\":\"scatterpolargl\"}],\"scatterpolar\":[{\"marker\":{\"colorbar\":{\"outlinewidth\":0,\"ticks\":\"\"}},\"type\":\"scatterpolar\"}],\"scatter\":[{\"fillpattern\":{\"fillmode\":\"overlay\",\"size\":10,\"solidity\":0.2},\"type\":\"scatter\"}],\"scatterternary\":[{\"marker\":{\"colorbar\":{\"outlinewidth\":0,\"ticks\":\"\"}},\"type\":\"scatterternary\"}],\"surface\":[{\"colorbar\":{\"outlinewidth\":0,\"ticks\":\"\"},\"colorscale\":[[0.0,\"#0d0887\"],[0.1111111111111111,\"#46039f\"],[0.2222222222222222,\"#7201a8\"],[0.3333333333333333,\"#9c179e\"],[0.4444444444444444,\"#bd3786\"],[0.5555555555555556,\"#d8576b\"],[0.6666666666666666,\"#ed7953\"],[0.7777777777777778,\"#fb9f3a\"],[0.8888888888888888,\"#fdca26\"],[1.0,\"#f0f921\"]],\"type\":\"surface\"}],\"table\":[{\"cells\":{\"fill\":{\"color\":\"#EBF0F8\"},\"line\":{\"color\":\"white\"}},\"header\":{\"fill\":{\"color\":\"#C8D4E3\"},\"line\":{\"color\":\"white\"}},\"type\":\"table\"}]},\"layout\":{\"annotationdefaults\":{\"arrowcolor\":\"#2a3f5f\",\"arrowhead\":0,\"arrowwidth\":1},\"autotypenumbers\":\"strict\",\"coloraxis\":{\"colorbar\":{\"outlinewidth\":0,\"ticks\":\"\"}},\"colorscale\":{\"diverging\":[[0,\"#8e0152\"],[0.1,\"#c51b7d\"],[0.2,\"#de77ae\"],[0.3,\"#f1b6da\"],[0.4,\"#fde0ef\"],[0.5,\"#f7f7f7\"],[0.6,\"#e6f5d0\"],[0.7,\"#b8e186\"],[0.8,\"#7fbc41\"],[0.9,\"#4d9221\"],[1,\"#276419\"]],\"sequential\":[[0.0,\"#0d0887\"],[0.1111111111111111,\"#46039f\"],[0.2222222222222222,\"#7201a8\"],[0.3333333333333333,\"#9c179e\"],[0.4444444444444444,\"#bd3786\"],[0.5555555555555556,\"#d8576b\"],[0.6666666666666666,\"#ed7953\"],[0.7777777777777778,\"#fb9f3a\"],[0.8888888888888888,\"#fdca26\"],[1.0,\"#f0f921\"]],\"sequentialminus\":[[0.0,\"#0d0887\"],[0.1111111111111111,\"#46039f\"],[0.2222222222222222,\"#7201a8\"],[0.3333333333333333,\"#9c179e\"],[0.4444444444444444,\"#bd3786\"],[0.5555555555555556,\"#d8576b\"],[0.6666666666666666,\"#ed7953\"],[0.7777777777777778,\"#fb9f3a\"],[0.8888888888888888,\"#fdca26\"],[1.0,\"#f0f921\"]]},\"colorway\":[\"#636efa\",\"#EF553B\",\"#00cc96\",\"#ab63fa\",\"#FFA15A\",\"#19d3f3\",\"#FF6692\",\"#B6E880\",\"#FF97FF\",\"#FECB52\"],\"font\":{\"color\":\"#2a3f5f\"},\"geo\":{\"bgcolor\":\"white\",\"lakecolor\":\"white\",\"landcolor\":\"white\",\"showlakes\":true,\"showland\":true,\"subunitcolor\":\"#C8D4E3\"},\"hoverlabel\":{\"align\":\"left\"},\"hovermode\":\"closest\",\"mapbox\":{\"style\":\"light\"},\"paper_bgcolor\":\"white\",\"plot_bgcolor\":\"white\",\"polar\":{\"angularaxis\":{\"gridcolor\":\"#EBF0F8\",\"linecolor\":\"#EBF0F8\",\"ticks\":\"\"},\"bgcolor\":\"white\",\"radialaxis\":{\"gridcolor\":\"#EBF0F8\",\"linecolor\":\"#EBF0F8\",\"ticks\":\"\"}},\"scene\":{\"xaxis\":{\"backgroundcolor\":\"white\",\"gridcolor\":\"#DFE8F3\",\"gridwidth\":2,\"linecolor\":\"#EBF0F8\",\"showbackground\":true,\"ticks\":\"\",\"zerolinecolor\":\"#EBF0F8\"},\"yaxis\":{\"backgroundcolor\":\"white\",\"gridcolor\":\"#DFE8F3\",\"gridwidth\":2,\"linecolor\":\"#EBF0F8\",\"showbackground\":true,\"ticks\":\"\",\"zerolinecolor\":\"#EBF0F8\"},\"zaxis\":{\"backgroundcolor\":\"white\",\"gridcolor\":\"#DFE8F3\",\"gridwidth\":2,\"linecolor\":\"#EBF0F8\",\"showbackground\":true,\"ticks\":\"\",\"zerolinecolor\":\"#EBF0F8\"}},\"shapedefaults\":{\"line\":{\"color\":\"#2a3f5f\"}},\"ternary\":{\"aaxis\":{\"gridcolor\":\"#DFE8F3\",\"linecolor\":\"#A2B1C6\",\"ticks\":\"\"},\"baxis\":{\"gridcolor\":\"#DFE8F3\",\"linecolor\":\"#A2B1C6\",\"ticks\":\"\"},\"bgcolor\":\"white\",\"caxis\":{\"gridcolor\":\"#DFE8F3\",\"linecolor\":\"#A2B1C6\",\"ticks\":\"\"}},\"title\":{\"x\":0.05},\"xaxis\":{\"automargin\":true,\"gridcolor\":\"#EBF0F8\",\"linecolor\":\"#EBF0F8\",\"ticks\":\"\",\"title\":{\"standoff\":15},\"zerolinecolor\":\"#EBF0F8\",\"zerolinewidth\":2},\"yaxis\":{\"automargin\":true,\"gridcolor\":\"#EBF0F8\",\"linecolor\":\"#EBF0F8\",\"ticks\":\"\",\"title\":{\"standoff\":15},\"zerolinecolor\":\"#EBF0F8\",\"zerolinewidth\":2}}},\"xaxis\":{\"anchor\":\"y\",\"domain\":[0.0,1.0],\"title\":{\"text\":\"Region\"},\"categoryorder\":\"array\",\"categoryarray\":[\"Nairobi\",\"Central\",\"Coast\",\"Western\"]},\"yaxis\":{\"anchor\":\"x\",\"domain\":[0.0,1.0],\"title\":{\"text\":\"Percentage of Ownership\"}},\"legend\":{\"title\":{\"text\":\"Region\"},\"tracegroupgap\":0},\"title\":{\"text\":\"Adoption of Mobile Money Accounts by Region Over Time\"},\"barmode\":\"relative\",\"updatemenus\":[{\"buttons\":[{\"args\":[null,{\"frame\":{\"duration\":500,\"redraw\":true},\"mode\":\"immediate\",\"fromcurrent\":true,\"transition\":{\"duration\":500,\"easing\":\"linear\"}}],\"label\":\"&#9654;\",\"method\":\"animate\"},{\"args\":[[null],{\"frame\":{\"duration\":0,\"redraw\":true},\"mode\":\"immediate\",\"fromcurrent\":true,\"transition\":{\"duration\":0,\"easing\":\"linear\"}}],\"label\":\"&#9724;\",\"method\":\"animate\"}],\"direction\":\"left\",\"pad\":{\"r\":10,\"t\":70},\"showactive\":false,\"type\":\"buttons\",\"x\":0.1,\"xanchor\":\"right\",\"y\":0,\"yanchor\":\"top\"}],\"sliders\":[{\"active\":0,\"currentvalue\":{\"prefix\":\"Year: \"},\"len\":0.9,\"pad\":{\"b\":10,\"t\":60},\"steps\":[{\"args\":[[\"2011\"],{\"frame\":{\"duration\":500,\"redraw\":true}}],\"label\":\"2011\",\"method\":\"animate\"},{\"args\":[[\"2014\"],{\"frame\":{\"duration\":500,\"redraw\":true}}],\"label\":\"2014\",\"method\":\"animate\"},{\"args\":[[\"2017\"],{\"frame\":{\"duration\":500,\"redraw\":true}}],\"label\":\"2017\",\"method\":\"animate\"},{\"args\":[[\"2021\"],{\"frame\":{\"duration\":500,\"redraw\":true}}],\"label\":\"2021\",\"method\":\"animate\"}],\"x\":0.1,\"xanchor\":\"left\",\"y\":0,\"yanchor\":\"top\"}],\"showlegend\":false},                        {\"responsive\": true}                    ).then(function(){\n",
              "                            Plotly.addFrames('11e284f3-bb3c-4972-a9c9-30815ed522ae', [{\"data\":[{\"alignmentgroup\":\"True\",\"hovertemplate\":\"Region=%{x}\\u003cbr\\u003eyear=2011\\u003cbr\\u003ePercentage of Mobile Money Account Ownership=%{y}\\u003cextra\\u003e\\u003c\\u002fextra\\u003e\",\"legendgroup\":\"Nairobi\",\"marker\":{\"color\":\"#4A90E2\",\"pattern\":{\"shape\":\"\"}},\"name\":\"Nairobi\",\"offsetgroup\":\"Nairobi\",\"orientation\":\"v\",\"showlegend\":true,\"textposition\":\"auto\",\"x\":[\"Nairobi\"],\"xaxis\":\"x\",\"y\":[20],\"yaxis\":\"y\",\"type\":\"bar\"},{\"alignmentgroup\":\"True\",\"hovertemplate\":\"Region=%{x}\\u003cbr\\u003eyear=2011\\u003cbr\\u003ePercentage of Mobile Money Account Ownership=%{y}\\u003cextra\\u003e\\u003c\\u002fextra\\u003e\",\"legendgroup\":\"Central\",\"marker\":{\"color\":\"#5DADE2\",\"pattern\":{\"shape\":\"\"}},\"name\":\"Central\",\"offsetgroup\":\"Central\",\"orientation\":\"v\",\"showlegend\":true,\"textposition\":\"auto\",\"x\":[\"Central\"],\"xaxis\":\"x\",\"y\":[10],\"yaxis\":\"y\",\"type\":\"bar\"},{\"alignmentgroup\":\"True\",\"hovertemplate\":\"Region=%{x}\\u003cbr\\u003eyear=2011\\u003cbr\\u003ePercentage of Mobile Money Account Ownership=%{y}\\u003cextra\\u003e\\u003c\\u002fextra\\u003e\",\"legendgroup\":\"Coast\",\"marker\":{\"color\":\"#76C1E4\",\"pattern\":{\"shape\":\"\"}},\"name\":\"Coast\",\"offsetgroup\":\"Coast\",\"orientation\":\"v\",\"showlegend\":true,\"textposition\":\"auto\",\"x\":[\"Coast\"],\"xaxis\":\"x\",\"y\":[5],\"yaxis\":\"y\",\"type\":\"bar\"},{\"alignmentgroup\":\"True\",\"hovertemplate\":\"Region=%{x}\\u003cbr\\u003eyear=2011\\u003cbr\\u003ePercentage of Mobile Money Account Ownership=%{y}\\u003cextra\\u003e\\u003c\\u002fextra\\u003e\",\"legendgroup\":\"Western\",\"marker\":{\"color\":\"#87D3E4\",\"pattern\":{\"shape\":\"\"}},\"name\":\"Western\",\"offsetgroup\":\"Western\",\"orientation\":\"v\",\"showlegend\":true,\"textposition\":\"auto\",\"x\":[\"Western\"],\"xaxis\":\"x\",\"y\":[8],\"yaxis\":\"y\",\"type\":\"bar\"}],\"name\":\"2011\"},{\"data\":[{\"alignmentgroup\":\"True\",\"hovertemplate\":\"Region=%{x}\\u003cbr\\u003eyear=2014\\u003cbr\\u003ePercentage of Mobile Money Account Ownership=%{y}\\u003cextra\\u003e\\u003c\\u002fextra\\u003e\",\"legendgroup\":\"Nairobi\",\"marker\":{\"color\":\"#4A90E2\",\"pattern\":{\"shape\":\"\"}},\"name\":\"Nairobi\",\"offsetgroup\":\"Nairobi\",\"orientation\":\"v\",\"showlegend\":true,\"textposition\":\"auto\",\"x\":[\"Nairobi\"],\"xaxis\":\"x\",\"y\":[35],\"yaxis\":\"y\",\"type\":\"bar\"},{\"alignmentgroup\":\"True\",\"hovertemplate\":\"Region=%{x}\\u003cbr\\u003eyear=2014\\u003cbr\\u003ePercentage of Mobile Money Account Ownership=%{y}\\u003cextra\\u003e\\u003c\\u002fextra\\u003e\",\"legendgroup\":\"Central\",\"marker\":{\"color\":\"#5DADE2\",\"pattern\":{\"shape\":\"\"}},\"name\":\"Central\",\"offsetgroup\":\"Central\",\"orientation\":\"v\",\"showlegend\":true,\"textposition\":\"auto\",\"x\":[\"Central\"],\"xaxis\":\"x\",\"y\":[25],\"yaxis\":\"y\",\"type\":\"bar\"},{\"alignmentgroup\":\"True\",\"hovertemplate\":\"Region=%{x}\\u003cbr\\u003eyear=2014\\u003cbr\\u003ePercentage of Mobile Money Account Ownership=%{y}\\u003cextra\\u003e\\u003c\\u002fextra\\u003e\",\"legendgroup\":\"Coast\",\"marker\":{\"color\":\"#76C1E4\",\"pattern\":{\"shape\":\"\"}},\"name\":\"Coast\",\"offsetgroup\":\"Coast\",\"orientation\":\"v\",\"showlegend\":true,\"textposition\":\"auto\",\"x\":[\"Coast\"],\"xaxis\":\"x\",\"y\":[20],\"yaxis\":\"y\",\"type\":\"bar\"},{\"alignmentgroup\":\"True\",\"hovertemplate\":\"Region=%{x}\\u003cbr\\u003eyear=2014\\u003cbr\\u003ePercentage of Mobile Money Account Ownership=%{y}\\u003cextra\\u003e\\u003c\\u002fextra\\u003e\",\"legendgroup\":\"Western\",\"marker\":{\"color\":\"#87D3E4\",\"pattern\":{\"shape\":\"\"}},\"name\":\"Western\",\"offsetgroup\":\"Western\",\"orientation\":\"v\",\"showlegend\":true,\"textposition\":\"auto\",\"x\":[\"Western\"],\"xaxis\":\"x\",\"y\":[18],\"yaxis\":\"y\",\"type\":\"bar\"}],\"name\":\"2014\"},{\"data\":[{\"alignmentgroup\":\"True\",\"hovertemplate\":\"Region=%{x}\\u003cbr\\u003eyear=2017\\u003cbr\\u003ePercentage of Mobile Money Account Ownership=%{y}\\u003cextra\\u003e\\u003c\\u002fextra\\u003e\",\"legendgroup\":\"Nairobi\",\"marker\":{\"color\":\"#4A90E2\",\"pattern\":{\"shape\":\"\"}},\"name\":\"Nairobi\",\"offsetgroup\":\"Nairobi\",\"orientation\":\"v\",\"showlegend\":true,\"textposition\":\"auto\",\"x\":[\"Nairobi\"],\"xaxis\":\"x\",\"y\":[55],\"yaxis\":\"y\",\"type\":\"bar\"},{\"alignmentgroup\":\"True\",\"hovertemplate\":\"Region=%{x}\\u003cbr\\u003eyear=2017\\u003cbr\\u003ePercentage of Mobile Money Account Ownership=%{y}\\u003cextra\\u003e\\u003c\\u002fextra\\u003e\",\"legendgroup\":\"Central\",\"marker\":{\"color\":\"#5DADE2\",\"pattern\":{\"shape\":\"\"}},\"name\":\"Central\",\"offsetgroup\":\"Central\",\"orientation\":\"v\",\"showlegend\":true,\"textposition\":\"auto\",\"x\":[\"Central\"],\"xaxis\":\"x\",\"y\":[45],\"yaxis\":\"y\",\"type\":\"bar\"},{\"alignmentgroup\":\"True\",\"hovertemplate\":\"Region=%{x}\\u003cbr\\u003eyear=2017\\u003cbr\\u003ePercentage of Mobile Money Account Ownership=%{y}\\u003cextra\\u003e\\u003c\\u002fextra\\u003e\",\"legendgroup\":\"Coast\",\"marker\":{\"color\":\"#76C1E4\",\"pattern\":{\"shape\":\"\"}},\"name\":\"Coast\",\"offsetgroup\":\"Coast\",\"orientation\":\"v\",\"showlegend\":true,\"textposition\":\"auto\",\"x\":[\"Coast\"],\"xaxis\":\"x\",\"y\":[40],\"yaxis\":\"y\",\"type\":\"bar\"},{\"alignmentgroup\":\"True\",\"hovertemplate\":\"Region=%{x}\\u003cbr\\u003eyear=2017\\u003cbr\\u003ePercentage of Mobile Money Account Ownership=%{y}\\u003cextra\\u003e\\u003c\\u002fextra\\u003e\",\"legendgroup\":\"Western\",\"marker\":{\"color\":\"#87D3E4\",\"pattern\":{\"shape\":\"\"}},\"name\":\"Western\",\"offsetgroup\":\"Western\",\"orientation\":\"v\",\"showlegend\":true,\"textposition\":\"auto\",\"x\":[\"Western\"],\"xaxis\":\"x\",\"y\":[30],\"yaxis\":\"y\",\"type\":\"bar\"}],\"name\":\"2017\"},{\"data\":[{\"alignmentgroup\":\"True\",\"hovertemplate\":\"Region=%{x}\\u003cbr\\u003eyear=2021\\u003cbr\\u003ePercentage of Mobile Money Account Ownership=%{y}\\u003cextra\\u003e\\u003c\\u002fextra\\u003e\",\"legendgroup\":\"Nairobi\",\"marker\":{\"color\":\"#4A90E2\",\"pattern\":{\"shape\":\"\"}},\"name\":\"Nairobi\",\"offsetgroup\":\"Nairobi\",\"orientation\":\"v\",\"showlegend\":true,\"textposition\":\"auto\",\"x\":[\"Nairobi\"],\"xaxis\":\"x\",\"y\":[75],\"yaxis\":\"y\",\"type\":\"bar\"},{\"alignmentgroup\":\"True\",\"hovertemplate\":\"Region=%{x}\\u003cbr\\u003eyear=2021\\u003cbr\\u003ePercentage of Mobile Money Account Ownership=%{y}\\u003cextra\\u003e\\u003c\\u002fextra\\u003e\",\"legendgroup\":\"Central\",\"marker\":{\"color\":\"#5DADE2\",\"pattern\":{\"shape\":\"\"}},\"name\":\"Central\",\"offsetgroup\":\"Central\",\"orientation\":\"v\",\"showlegend\":true,\"textposition\":\"auto\",\"x\":[\"Central\"],\"xaxis\":\"x\",\"y\":[65],\"yaxis\":\"y\",\"type\":\"bar\"},{\"alignmentgroup\":\"True\",\"hovertemplate\":\"Region=%{x}\\u003cbr\\u003eyear=2021\\u003cbr\\u003ePercentage of Mobile Money Account Ownership=%{y}\\u003cextra\\u003e\\u003c\\u002fextra\\u003e\",\"legendgroup\":\"Coast\",\"marker\":{\"color\":\"#76C1E4\",\"pattern\":{\"shape\":\"\"}},\"name\":\"Coast\",\"offsetgroup\":\"Coast\",\"orientation\":\"v\",\"showlegend\":true,\"textposition\":\"auto\",\"x\":[\"Coast\"],\"xaxis\":\"x\",\"y\":[60],\"yaxis\":\"y\",\"type\":\"bar\"},{\"alignmentgroup\":\"True\",\"hovertemplate\":\"Region=%{x}\\u003cbr\\u003eyear=2021\\u003cbr\\u003ePercentage of Mobile Money Account Ownership=%{y}\\u003cextra\\u003e\\u003c\\u002fextra\\u003e\",\"legendgroup\":\"Western\",\"marker\":{\"color\":\"#87D3E4\",\"pattern\":{\"shape\":\"\"}},\"name\":\"Western\",\"offsetgroup\":\"Western\",\"orientation\":\"v\",\"showlegend\":true,\"textposition\":\"auto\",\"x\":[\"Western\"],\"xaxis\":\"x\",\"y\":[50],\"yaxis\":\"y\",\"type\":\"bar\"}],\"name\":\"2021\"}]);\n",
              "                        }).then(function(){\n",
              "                            \n",
              "var gd = document.getElementById('11e284f3-bb3c-4972-a9c9-30815ed522ae');\n",
              "var x = new MutationObserver(function (mutations, observer) {{\n",
              "        var display = window.getComputedStyle(gd).display;\n",
              "        if (!display || display === 'none') {{\n",
              "            console.log([gd, 'removed!']);\n",
              "            Plotly.purge(gd);\n",
              "            observer.disconnect();\n",
              "        }}\n",
              "}});\n",
              "\n",
              "// Listen for the removal of the full notebook cells\n",
              "var notebookContainer = gd.closest('#notebook-container');\n",
              "if (notebookContainer) {{\n",
              "    x.observe(notebookContainer, {childList: true});\n",
              "}}\n",
              "\n",
              "// Listen for the clearing of the current output cell\n",
              "var outputEl = gd.closest('.output');\n",
              "if (outputEl) {{\n",
              "    x.observe(outputEl, {childList: true});\n",
              "}}\n",
              "\n",
              "                        })                };                            </script>        </div>\n",
              "</body>\n",
              "</html>"
            ]
          },
          "metadata": {}
        }
      ]
    },
    {
      "cell_type": "markdown",
      "source": [
        "Insight: The chart illustrates regional disparities in Mobile Money adoption, with urban areas like Nairobi leading compared to rural regions like Western. Why It Matters: Reveals the geographical digital divide, stressing the need for infrastructure and financial services in underserved areas."
      ],
      "metadata": {
        "id": "lgtBZxxCVjHi"
      }
    }
  ]
}